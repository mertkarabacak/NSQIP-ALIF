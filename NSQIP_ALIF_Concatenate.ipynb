{
  "cells": [
    {
      "cell_type": "code",
      "execution_count": null,
      "metadata": {
        "id": "NUoUw1WrLesI"
      },
      "outputs": [],
      "source": [
        "from google.colab import drive\n",
        "drive.mount('/content/drive')"
      ],
      "id": "NUoUw1WrLesI"
    },
    {
      "cell_type": "code",
      "execution_count": null,
      "metadata": {
        "id": "b7069c46-b444-4100-b7d9-c884c759b493"
      },
      "outputs": [],
      "source": [
        "import pandas as pd"
      ],
      "id": "b7069c46-b444-4100-b7d9-c884c759b493"
    },
    {
      "cell_type": "code",
      "execution_count": null,
      "metadata": {
        "id": "PpF1-3B0uexB"
      },
      "outputs": [],
      "source": [
        "cpt_codes = [22558, 22585]\n",
        "\n",
        "columns = ['CPT', 'OTHERCPT1', 'OTHERCPT2', 'OTHERCPT3', 'OTHERCPT4', 'OTHERCPT5', 'OTHERCPT6',\n",
        "           'OTHERCPT7', 'OTHERCPT8', 'OTHERCPT9', 'OTHERCPT10', 'CONCPT1', 'CONCPT2', 'CONCPT3',\n",
        "           'CONCPT4', 'CONCPT5', 'CONCPT6', 'CONCPT7', 'CONCPT8', 'CONCPT9', 'CONCPT10']"
      ],
      "id": "PpF1-3B0uexB"
    },
    {
      "cell_type": "code",
      "execution_count": null,
      "metadata": {
        "id": "83ebea8e-eaf9-4e4c-95b0-7b18bcac7215"
      },
      "outputs": [],
      "source": [
        "#Read 2020 data.\n",
        "\n",
        "df2020 = pd.read_csv(\"/content/drive/MyDrive/NSQIP-PUFs/NSQIP_2020.csv\", index_col = 'CaseID', encoding = 'latin1', low_memory = False)\n",
        "\n",
        "df2020.columns = map(str.upper, df2020.columns)"
      ],
      "id": "83ebea8e-eaf9-4e4c-95b0-7b18bcac7215"
    },
    {
      "cell_type": "code",
      "execution_count": null,
      "metadata": {
        "id": "g4pkaNnHu3LG"
      },
      "outputs": [],
      "source": [
        "print(list(df2020.columns))"
      ],
      "id": "g4pkaNnHu3LG"
    },
    {
      "cell_type": "code",
      "execution_count": null,
      "metadata": {
        "id": "37b4e4d8-f7d9-4715-86e4-a52a158b4626"
      },
      "outputs": [],
      "source": [
        "#Drop the columns that are not present in other years.\n",
        "\n",
        "df2020 = df2020.drop(columns=['EOL_WDCARE', 'BLEED_UNITS_TOT'])\n",
        "\n",
        "print(df2020.shape)"
      ],
      "id": "37b4e4d8-f7d9-4715-86e4-a52a158b4626"
    },
    {
      "cell_type": "code",
      "execution_count": null,
      "metadata": {
        "id": "085e47a0-deef-46ab-be43-3c70880b3cce"
      },
      "outputs": [],
      "source": [
        "#Include patients for 2020.\n",
        "\n",
        "df2020 = df2020[df2020[columns].isin(cpt_codes).any(axis=1)]\n",
        "\n",
        "print(df2020.shape)"
      ],
      "id": "085e47a0-deef-46ab-be43-3c70880b3cce"
    },
    {
      "cell_type": "code",
      "execution_count": null,
      "metadata": {
        "id": "a9542653-5403-410b-bf62-664e14f6462b"
      },
      "outputs": [],
      "source": [
        "#Read 2019 data.\n",
        "\n",
        "df2019 = pd.read_csv(\"/content/drive/MyDrive/NSQIP-PUFs/NSQIP_2019.csv\", index_col = 'CASEID', encoding = 'latin1', low_memory = False)\n",
        "\n",
        "df2019.columns = map(str.upper, df2019.columns)\n",
        "\n",
        "print(df2019.shape)"
      ],
      "id": "a9542653-5403-410b-bf62-664e14f6462b"
    },
    {
      "cell_type": "code",
      "execution_count": null,
      "metadata": {
        "id": "c6fb2a92-7924-4965-8282-2fd54bcac03b"
      },
      "outputs": [],
      "source": [
        "#Include patients for 2019.\n",
        "\n",
        "df2019 = df2019[df2019[columns].isin(cpt_codes).any(axis=1)]\n",
        "\n",
        "print(df2019.shape)"
      ],
      "id": "c6fb2a92-7924-4965-8282-2fd54bcac03b"
    },
    {
      "cell_type": "code",
      "execution_count": null,
      "metadata": {
        "id": "cb772fcf-d268-4221-93a0-5eb5c265c935"
      },
      "outputs": [],
      "source": [
        "#Read 2018 data.\n",
        "\n",
        "df2018 = pd.read_csv(\"/content/drive/MyDrive/NSQIP-PUFs/NSQIP_2018.csv\", index_col = 'CaseID', encoding = 'latin1', low_memory = False)\n",
        "\n",
        "df2018.columns = map(str.upper, df2018.columns)\n",
        "\n",
        "print(df2018.shape)"
      ],
      "id": "cb772fcf-d268-4221-93a0-5eb5c265c935"
    },
    {
      "cell_type": "code",
      "execution_count": null,
      "metadata": {
        "id": "e8bc3025-d320-46fb-8a4b-e2ba478dbb30"
      },
      "outputs": [],
      "source": [
        "#Include patients for 2018.\n",
        "\n",
        "df2018 = df2018[df2018[columns].isin(cpt_codes).any(axis=1)]\n",
        "\n",
        "print(df2018.shape)"
      ],
      "id": "e8bc3025-d320-46fb-8a4b-e2ba478dbb30"
    },
    {
      "cell_type": "code",
      "execution_count": null,
      "metadata": {
        "id": "5170bbc1-b5d3-4c09-9657-d25b0ac0ecba"
      },
      "outputs": [],
      "source": [
        "#Read 2017 data.\n",
        "\n",
        "df2017 = pd.read_csv(\"/content/drive/MyDrive/NSQIP-PUFs/NSQIP_2017.csv\", index_col = 'CaseID', encoding = 'latin1', low_memory = False)\n",
        "\n",
        "df2017.columns = map(str.upper, df2017.columns)\n",
        "\n",
        "print(df2017.shape)"
      ],
      "id": "5170bbc1-b5d3-4c09-9657-d25b0ac0ecba"
    },
    {
      "cell_type": "code",
      "execution_count": null,
      "metadata": {
        "id": "37d5f575-43ab-4f3e-929a-70e0e0a75419"
      },
      "outputs": [],
      "source": [
        "#Include patients for 2017.\n",
        "\n",
        "df2017 = df2017[df2017[columns].isin(cpt_codes).any(axis=1)]\n",
        "\n",
        "print(df2017.shape)"
      ],
      "id": "37d5f575-43ab-4f3e-929a-70e0e0a75419"
    },
    {
      "cell_type": "code",
      "execution_count": null,
      "metadata": {
        "id": "24ac9edb-b63f-4dae-a208-26ecf6c94b11"
      },
      "outputs": [],
      "source": [
        "#Read 2016 data.\n",
        "\n",
        "df2016 = pd.read_csv(\"/content/drive/MyDrive/NSQIP-PUFs/NSQIP_2016.csv\", index_col = 'CaseID', encoding = 'latin1', low_memory = False)\n",
        "\n",
        "df2016.columns = map(str.upper, df2016.columns)\n",
        "\n",
        "print(df2016.shape)"
      ],
      "id": "24ac9edb-b63f-4dae-a208-26ecf6c94b11"
    },
    {
      "cell_type": "code",
      "execution_count": null,
      "metadata": {
        "id": "dd9866b0-c2dc-4da0-b9a6-f738f20b4e7b"
      },
      "outputs": [],
      "source": [
        "#Include patients for 2016.\n",
        "\n",
        "df2016 = df2016[df2016[columns].isin(cpt_codes).any(axis=1)]\n",
        "\n",
        "print(df2016.shape)"
      ],
      "id": "dd9866b0-c2dc-4da0-b9a6-f738f20b4e7b"
    },
    {
      "cell_type": "code",
      "execution_count": null,
      "metadata": {
        "id": "mgCOjHV_8S7a"
      },
      "outputs": [],
      "source": [
        "#Read 2015 data.\n",
        "\n",
        "df2015 = pd.read_csv(\"/content/drive/MyDrive/NSQIP-PUFs/NSQIP_2015.csv\", index_col = 'CaseID', encoding = 'latin1', low_memory = False)\n",
        "\n",
        "df2015.columns = map(str.upper, df2015.columns)\n",
        "\n",
        "print(df2015.shape)"
      ],
      "id": "mgCOjHV_8S7a"
    },
    {
      "cell_type": "code",
      "execution_count": null,
      "metadata": {
        "id": "YuquRCzy8S7e"
      },
      "outputs": [],
      "source": [
        "#Include patients for 2015.\n",
        "\n",
        "df2015 = df2015[df2015[columns].isin(cpt_codes).any(axis=1)]\n",
        "\n",
        "print(df2015.shape)"
      ],
      "id": "YuquRCzy8S7e"
    },
    {
      "cell_type": "code",
      "execution_count": null,
      "metadata": {
        "id": "J7J6PVzd8UHB"
      },
      "outputs": [],
      "source": [
        "#Read 2014 data.\n",
        "\n",
        "df2014 = pd.read_csv(\"/content/drive/MyDrive/NSQIP-PUFs/NSQIP_2014.csv\", index_col = 'CaseID', encoding = 'latin1', low_memory = False)\n",
        "\n",
        "df2014.columns = map(str.upper, df2014.columns)\n",
        "\n",
        "print(df2014.shape)"
      ],
      "id": "J7J6PVzd8UHB"
    },
    {
      "cell_type": "code",
      "execution_count": null,
      "metadata": {
        "id": "acsT6AO08UHC"
      },
      "outputs": [],
      "source": [
        "#Include patients for 2014.\n",
        "\n",
        "df2014 = df2014[df2014[columns].isin(cpt_codes).any(axis=1)]\n",
        "\n",
        "print(df2014.shape)"
      ],
      "id": "acsT6AO08UHC"
    },
    {
      "cell_type": "code",
      "execution_count": null,
      "metadata": {
        "id": "1b7d99af-1e65-4876-af89-7255c85e4160"
      },
      "outputs": [],
      "source": [
        "#Combine data.\n",
        "\n",
        "dfs = [df2014, df2015, df2016, df2017, df2018, df2019, df2020]\n",
        "\n",
        "combined = pd.concat(dfs)\n",
        "\n",
        "print(combined.shape)"
      ],
      "id": "1b7d99af-1e65-4876-af89-7255c85e4160"
    },
    {
      "cell_type": "code",
      "execution_count": null,
      "metadata": {
        "id": "cd269ba3-7d20-402e-96f1-c4394e1fef3b"
      },
      "outputs": [],
      "source": [
        "#Save combined data.\n",
        "\n",
        "combined.to_csv('/content/drive/MyDrive/NSQIP-ALIF/data_combined.csv')"
      ],
      "id": "cd269ba3-7d20-402e-96f1-c4394e1fef3b"
    }
  ],
  "metadata": {
    "colab": {
      "machine_shape": "hm",
      "provenance": []
    },
    "environment": {
      "kernel": "python3",
      "name": "common-cpu.m100",
      "type": "gcloud",
      "uri": "gcr.io/deeplearning-platform-release/base-cpu:m100"
    },
    "gpuClass": "standard",
    "kernelspec": {
      "display_name": "Python 3",
      "language": "python",
      "name": "python3"
    },
    "language_info": {
      "codemirror_mode": {
        "name": "ipython",
        "version": 3
      },
      "file_extension": ".py",
      "mimetype": "text/x-python",
      "name": "python",
      "nbconvert_exporter": "python",
      "pygments_lexer": "ipython3",
      "version": "3.7.12"
    }
  },
  "nbformat": 4,
  "nbformat_minor": 5
}