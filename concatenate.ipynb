{
 "cells": [
  {
   "cell_type": "code",
   "execution_count": null,
   "id": "NUoUw1WrLesI",
   "metadata": {
    "colab": {
     "base_uri": "https://localhost:8080/"
    },
    "executionInfo": {
     "elapsed": 1208,
     "status": "ok",
     "timestamp": 1672253747077,
     "user": {
      "displayName": "Mert Karabacak",
      "userId": "14308977132914475412"
     },
     "user_tz": 300
    },
    "id": "NUoUw1WrLesI",
    "outputId": "3908ffc4-baed-45cb-cb40-ee91e4cd2bbe"
   },
   "outputs": [],
   "source": [
    "from google.colab import drive\n",
    "drive.mount('/content/drive')"
   ]
  },
  {
   "cell_type": "code",
   "execution_count": null,
   "id": "b7069c46-b444-4100-b7d9-c884c759b493",
   "metadata": {
    "executionInfo": {
     "elapsed": 1200,
     "status": "ok",
     "timestamp": 1672253748275,
     "user": {
      "displayName": "Mert Karabacak",
      "userId": "14308977132914475412"
     },
     "user_tz": 300
    },
    "id": "b7069c46-b444-4100-b7d9-c884c759b493"
   },
   "outputs": [],
   "source": [
    "import pandas as pd"
   ]
  },
  {
   "cell_type": "code",
   "execution_count": null,
   "id": "83ebea8e-eaf9-4e4c-95b0-7b18bcac7215",
   "metadata": {
    "executionInfo": {
     "elapsed": 79137,
     "status": "ok",
     "timestamp": 1672253827411,
     "user": {
      "displayName": "Mert Karabacak",
      "userId": "14308977132914475412"
     },
     "user_tz": 300
    },
    "id": "83ebea8e-eaf9-4e4c-95b0-7b18bcac7215"
   },
   "outputs": [],
   "source": [
    "#Read 2020 data.\n",
    "\n",
    "df2020 = pd.read_csv(\"/content/drive/MyDrive/NSQIP-PUFs/NSQIP_2020.csv\", index_col = 'CaseID', encoding = 'latin1', low_memory = False)\n",
    "\n",
    "df2020.columns = map(str.upper, df2020.columns)"
   ]
  },
  {
   "cell_type": "code",
   "execution_count": null,
   "id": "37b4e4d8-f7d9-4715-86e4-a52a158b4626",
   "metadata": {
    "executionInfo": {
     "elapsed": 1489,
     "status": "ok",
     "timestamp": 1672253828885,
     "user": {
      "displayName": "Mert Karabacak",
      "userId": "14308977132914475412"
     },
     "user_tz": 300
    },
    "id": "37b4e4d8-f7d9-4715-86e4-a52a158b4626"
   },
   "outputs": [],
   "source": [
    "#Drop the columns that are not present in other years.\n",
    "\n",
    "df2020 = df2020.drop(columns=['EOL_WDCARE', 'BLEED_UNITS_TOT'])"
   ]
  },
  {
   "cell_type": "code",
   "execution_count": null,
   "id": "336cffa1-eca7-41ba-9fda-844b73a7068f",
   "metadata": {
    "colab": {
     "base_uri": "https://localhost:8080/"
    },
    "executionInfo": {
     "elapsed": 5,
     "status": "ok",
     "timestamp": 1672253828885,
     "user": {
      "displayName": "Mert Karabacak",
      "userId": "14308977132914475412"
     },
     "user_tz": 300
    },
    "id": "336cffa1-eca7-41ba-9fda-844b73a7068f",
    "outputId": "17312748-8997-4f34-9faf-21d07731a657"
   },
   "outputs": [],
   "source": [
    "#Check 2020 data shape.\n",
    "\n",
    "df2020.shape"
   ]
  },
  {
   "cell_type": "code",
   "execution_count": null,
   "id": "085e47a0-deef-46ab-be43-3c70880b3cce",
   "metadata": {
    "colab": {
     "base_uri": "https://localhost:8080/"
    },
    "executionInfo": {
     "elapsed": 806,
     "status": "ok",
     "timestamp": 1672253829689,
     "user": {
      "displayName": "Mert Karabacak",
      "userId": "14308977132914475412"
     },
     "user_tz": 300
    },
    "id": "085e47a0-deef-46ab-be43-3c70880b3cce",
    "outputId": "667e631b-a50f-4504-c8db-476f8160136c"
   },
   "outputs": [],
   "source": [
    "#Identify ALIF with CPT codes.\n",
    "\n",
    "df2020_alif = df2020[(df2020['CPT'] == 22558) | (df2020['CONCPT1'] == 22558) | (df2020['CONCPT2'] == 22558) | (df2020['CONCPT3'] == 22558) | (df2020['CONCPT4'] == 22558) | (df2020['CONCPT5'] == 22558) | (df2020['CONCPT6'] == 22558) | (df2020['CONCPT7'] == 22558) | (df2020['CONCPT8'] == 22558) | (df2020['CONCPT9'] == 22558) | (df2020['CONCPT10'] == 22558) | (df2020['OTHERCPT1'] == 22558) | (df2020['OTHERCPT2'] == 22558) | (df2020['OTHERCPT3'] == 22558) | (df2020['OTHERCPT4'] == 22558) | (df2020['OTHERCPT5'] == 22558) | (df2020['OTHERCPT6'] == 22558) | (df2020['OTHERCPT7'] == 22558) | (df2020['OTHERCPT8'] == 22558) | (df2020['OTHERCPT9'] == 22558) | (df2020['OTHERCPT10'] == 22558)]\n",
    "print(df2020_alif.shape)"
   ]
  },
  {
   "cell_type": "code",
   "execution_count": null,
   "id": "a9542653-5403-410b-bf62-664e14f6462b",
   "metadata": {
    "executionInfo": {
     "elapsed": 72399,
     "status": "ok",
     "timestamp": 1672253902086,
     "user": {
      "displayName": "Mert Karabacak",
      "userId": "14308977132914475412"
     },
     "user_tz": 300
    },
    "id": "a9542653-5403-410b-bf62-664e14f6462b"
   },
   "outputs": [],
   "source": [
    "#Read 2019 data.\n",
    "\n",
    "df2019 = pd.read_csv(\"/content/drive/MyDrive/NSQIP-PUFs/NSQIP_2019.csv\", index_col = 'CASEID', encoding = 'latin1', low_memory = False)\n",
    "\n",
    "df2019.columns = map(str.upper, df2019.columns)"
   ]
  },
  {
   "cell_type": "code",
   "execution_count": null,
   "id": "779f98b3-ebfc-45bc-97b6-084feee4fb16",
   "metadata": {
    "colab": {
     "base_uri": "https://localhost:8080/"
    },
    "executionInfo": {
     "elapsed": 11,
     "status": "ok",
     "timestamp": 1672253902087,
     "user": {
      "displayName": "Mert Karabacak",
      "userId": "14308977132914475412"
     },
     "user_tz": 300
    },
    "id": "779f98b3-ebfc-45bc-97b6-084feee4fb16",
    "outputId": "868b812e-0279-4e7e-cc79-b49a8572462a"
   },
   "outputs": [],
   "source": [
    "#Check 2019 data shape.\n",
    "\n",
    "df2019.shape"
   ]
  },
  {
   "cell_type": "code",
   "execution_count": null,
   "id": "c6fb2a92-7924-4965-8282-2fd54bcac03b",
   "metadata": {
    "colab": {
     "base_uri": "https://localhost:8080/"
    },
    "executionInfo": {
     "elapsed": 378,
     "status": "ok",
     "timestamp": 1672253902456,
     "user": {
      "displayName": "Mert Karabacak",
      "userId": "14308977132914475412"
     },
     "user_tz": 300
    },
    "id": "c6fb2a92-7924-4965-8282-2fd54bcac03b",
    "outputId": "83b1d0dd-fc43-487d-b158-b8a48f5fd9ec"
   },
   "outputs": [],
   "source": [
    "#Identify ALIF with CPT codes.\n",
    "\n",
    "df2019_alif = df2019[(df2019['CPT'] == 22558) | (df2019['CONCPT1'] == 22558) | (df2019['CONCPT2'] == 22558) | (df2019['CONCPT3'] == 22558) | (df2019['CONCPT4'] == 22558) | (df2019['CONCPT5'] == 22558) | (df2019['CONCPT6'] == 22558) | (df2019['CONCPT7'] == 22558) | (df2019['CONCPT8'] == 22558) | (df2019['CONCPT9'] == 22558) | (df2019['CONCPT10'] == 22558) | (df2019['OTHERCPT1'] == 22558) | (df2019['OTHERCPT2'] == 22558) | (df2019['OTHERCPT3'] == 22558) | (df2019['OTHERCPT4'] == 22558) | (df2019['OTHERCPT5'] == 22558) | (df2019['OTHERCPT6'] == 22558) | (df2019['OTHERCPT7'] == 22558) | (df2019['OTHERCPT8'] == 22558) | (df2019['OTHERCPT9'] == 22558) | (df2019['OTHERCPT10'] == 22558)]\n",
    "print(df2019_alif.shape)"
   ]
  },
  {
   "cell_type": "code",
   "execution_count": null,
   "id": "cb772fcf-d268-4221-93a0-5eb5c265c935",
   "metadata": {
    "executionInfo": {
     "elapsed": 62864,
     "status": "ok",
     "timestamp": 1672253965319,
     "user": {
      "displayName": "Mert Karabacak",
      "userId": "14308977132914475412"
     },
     "user_tz": 300
    },
    "id": "cb772fcf-d268-4221-93a0-5eb5c265c935"
   },
   "outputs": [],
   "source": [
    "#Read 2018 data.\n",
    "\n",
    "df2018 = pd.read_csv(\"/content/drive/MyDrive/NSQIP-PUFs/NSQIP_2018.csv\", index_col = 'CaseID', encoding = 'latin1', low_memory = False)\n",
    "\n",
    "df2018.columns = map(str.upper, df2018.columns)"
   ]
  },
  {
   "cell_type": "code",
   "execution_count": null,
   "id": "e40d915a-d1c3-4efd-b325-6245ec91323d",
   "metadata": {
    "colab": {
     "base_uri": "https://localhost:8080/"
    },
    "executionInfo": {
     "elapsed": 13,
     "status": "ok",
     "timestamp": 1672253965320,
     "user": {
      "displayName": "Mert Karabacak",
      "userId": "14308977132914475412"
     },
     "user_tz": 300
    },
    "id": "e40d915a-d1c3-4efd-b325-6245ec91323d",
    "outputId": "6058eeaf-a48a-4b77-81f3-024375a6253d"
   },
   "outputs": [],
   "source": [
    "#Check 2018 data shape.\n",
    "\n",
    "df2018.shape"
   ]
  },
  {
   "cell_type": "code",
   "execution_count": null,
   "id": "e8bc3025-d320-46fb-8a4b-e2ba478dbb30",
   "metadata": {
    "colab": {
     "base_uri": "https://localhost:8080/"
    },
    "executionInfo": {
     "elapsed": 548,
     "status": "ok",
     "timestamp": 1672253965859,
     "user": {
      "displayName": "Mert Karabacak",
      "userId": "14308977132914475412"
     },
     "user_tz": 300
    },
    "id": "e8bc3025-d320-46fb-8a4b-e2ba478dbb30",
    "outputId": "dbd2a24d-663a-4006-adfd-6f9c8e360723"
   },
   "outputs": [],
   "source": [
    "#Identify ALIF with CPT codes.\n",
    "\n",
    "df2018_alif = df2018[(df2018['CPT'] == 22558) | (df2018['CONCPT1'] == 22558) | (df2018['CONCPT2'] == 22558) | (df2018['CONCPT3'] == 22558) | (df2018['CONCPT4'] == 22558) | (df2018['CONCPT5'] == 22558) | (df2018['CONCPT6'] == 22558) | (df2018['CONCPT7'] == 22558) | (df2018['CONCPT8'] == 22558) | (df2018['CONCPT9'] == 22558) | (df2018['CONCPT10'] == 22558) | (df2018['OTHERCPT1'] == 22558) | (df2018['OTHERCPT2'] == 22558) | (df2018['OTHERCPT3'] == 22558) | (df2018['OTHERCPT4'] == 22558) | (df2018['OTHERCPT5'] == 22558) | (df2018['OTHERCPT6'] == 22558) | (df2018['OTHERCPT7'] == 22558) | (df2018['OTHERCPT8'] == 22558) | (df2018['OTHERCPT9'] == 22558) | (df2018['OTHERCPT10'] == 22558)]\n",
    "print(df2018_alif.shape)"
   ]
  },
  {
   "cell_type": "code",
   "execution_count": null,
   "id": "5170bbc1-b5d3-4c09-9657-d25b0ac0ecba",
   "metadata": {
    "executionInfo": {
     "elapsed": 67247,
     "status": "ok",
     "timestamp": 1672254033105,
     "user": {
      "displayName": "Mert Karabacak",
      "userId": "14308977132914475412"
     },
     "user_tz": 300
    },
    "id": "5170bbc1-b5d3-4c09-9657-d25b0ac0ecba"
   },
   "outputs": [],
   "source": [
    "#Read 2017 data.\n",
    "\n",
    "df2017 = pd.read_csv(\"/content/drive/MyDrive/NSQIP-PUFs/NSQIP_2017.csv\", index_col = 'CaseID', encoding = 'latin1', low_memory = False)\n",
    "\n",
    "df2017.columns = map(str.upper, df2017.columns)"
   ]
  },
  {
   "cell_type": "code",
   "execution_count": null,
   "id": "992f5c92-fbb3-48d1-93de-b980c60a9ff3",
   "metadata": {
    "colab": {
     "base_uri": "https://localhost:8080/"
    },
    "executionInfo": {
     "elapsed": 11,
     "status": "ok",
     "timestamp": 1672254033106,
     "user": {
      "displayName": "Mert Karabacak",
      "userId": "14308977132914475412"
     },
     "user_tz": 300
    },
    "id": "992f5c92-fbb3-48d1-93de-b980c60a9ff3",
    "outputId": "ea4bd2e6-dd4b-428c-e53f-bc42be514d19"
   },
   "outputs": [],
   "source": [
    "#Check 2017 data shape.\n",
    "\n",
    "df2017.shape"
   ]
  },
  {
   "cell_type": "code",
   "execution_count": null,
   "id": "37d5f575-43ab-4f3e-929a-70e0e0a75419",
   "metadata": {
    "colab": {
     "base_uri": "https://localhost:8080/"
    },
    "executionInfo": {
     "elapsed": 714,
     "status": "ok",
     "timestamp": 1672254033811,
     "user": {
      "displayName": "Mert Karabacak",
      "userId": "14308977132914475412"
     },
     "user_tz": 300
    },
    "id": "37d5f575-43ab-4f3e-929a-70e0e0a75419",
    "outputId": "9efc4d61-d729-44b7-8a0c-3ade9b50ef77"
   },
   "outputs": [],
   "source": [
    "#Identify ALIF with CPT codes.\n",
    "\n",
    "df2017_alif = df2017[(df2017['CPT'] == 22558) | (df2017['CONCPT1'] == 22558) | (df2017['CONCPT2'] == 22558) | (df2017['CONCPT3'] == 22558) | (df2017['CONCPT4'] == 22558) | (df2017['CONCPT5'] == 22558) | (df2017['CONCPT6'] == 22558) | (df2017['CONCPT7'] == 22558) | (df2017['CONCPT8'] == 22558) | (df2017['CONCPT9'] == 22558) | (df2017['CONCPT10'] == 22558) | (df2017['OTHERCPT1'] == 22558) | (df2017['OTHERCPT2'] == 22558) | (df2017['OTHERCPT3'] == 22558) | (df2017['OTHERCPT4'] == 22558) | (df2017['OTHERCPT5'] == 22558) | (df2017['OTHERCPT6'] == 22558) | (df2017['OTHERCPT7'] == 22558) | (df2017['OTHERCPT8'] == 22558) | (df2017['OTHERCPT9'] == 22558) | (df2017['OTHERCPT10'] == 22558)]\n",
    "print(df2017_alif.shape)"
   ]
  },
  {
   "cell_type": "code",
   "execution_count": null,
   "id": "24ac9edb-b63f-4dae-a208-26ecf6c94b11",
   "metadata": {
    "executionInfo": {
     "elapsed": 66173,
     "status": "ok",
     "timestamp": 1672254099983,
     "user": {
      "displayName": "Mert Karabacak",
      "userId": "14308977132914475412"
     },
     "user_tz": 300
    },
    "id": "24ac9edb-b63f-4dae-a208-26ecf6c94b11"
   },
   "outputs": [],
   "source": [
    "#Read 2016 data.\n",
    "\n",
    "df2016 = pd.read_csv(\"/content/drive/MyDrive/NSQIP-PUFs/NSQIP_2016.csv\", index_col = 'CaseID', encoding = 'latin1', low_memory = False)\n",
    "\n",
    "df2016.columns = map(str.upper, df2016.columns)"
   ]
  },
  {
   "cell_type": "code",
   "execution_count": null,
   "id": "c12cee42-43df-40fc-990e-3e88acd63726",
   "metadata": {
    "colab": {
     "base_uri": "https://localhost:8080/"
    },
    "executionInfo": {
     "elapsed": 11,
     "status": "ok",
     "timestamp": 1672254099984,
     "user": {
      "displayName": "Mert Karabacak",
      "userId": "14308977132914475412"
     },
     "user_tz": 300
    },
    "id": "c12cee42-43df-40fc-990e-3e88acd63726",
    "outputId": "feaf90a4-f438-4816-b8d0-d652790af5de"
   },
   "outputs": [],
   "source": [
    "#Check 2016 data shape.\n",
    "\n",
    "df2016.shape"
   ]
  },
  {
   "cell_type": "code",
   "execution_count": null,
   "id": "dd9866b0-c2dc-4da0-b9a6-f738f20b4e7b",
   "metadata": {
    "colab": {
     "base_uri": "https://localhost:8080/"
    },
    "executionInfo": {
     "elapsed": 253,
     "status": "ok",
     "timestamp": 1672254100228,
     "user": {
      "displayName": "Mert Karabacak",
      "userId": "14308977132914475412"
     },
     "user_tz": 300
    },
    "id": "dd9866b0-c2dc-4da0-b9a6-f738f20b4e7b",
    "outputId": "df1fdc4e-75fc-4222-bfe8-60f330e43e3c"
   },
   "outputs": [],
   "source": [
    "#Identify ALIF with CPT codes.\n",
    "\n",
    "df2016_alif = df2016[(df2016['CPT'] == 22558) | (df2016['CONCPT1'] == 22558) | (df2016['CONCPT2'] == 22558) | (df2016['CONCPT3'] == 22558) | (df2016['CONCPT4'] == 22558) | (df2016['CONCPT5'] == 22558) | (df2016['CONCPT6'] == 22558) | (df2016['CONCPT7'] == 22558) | (df2016['CONCPT8'] == 22558) | (df2016['CONCPT9'] == 22558) | (df2016['CONCPT10'] == 22558) | (df2016['OTHERCPT1'] == 22558) | (df2016['OTHERCPT2'] == 22558) | (df2016['OTHERCPT3'] == 22558) | (df2016['OTHERCPT4'] == 22558) | (df2016['OTHERCPT5'] == 22558) | (df2016['OTHERCPT6'] == 22558) | (df2016['OTHERCPT7'] == 22558) | (df2016['OTHERCPT8'] == 22558) | (df2016['OTHERCPT9'] == 22558) | (df2016['OTHERCPT10'] == 22558)]\n",
    "print(df2016_alif.shape)"
   ]
  },
  {
   "cell_type": "code",
   "execution_count": null,
   "id": "j6quRrNMwWSr",
   "metadata": {
    "executionInfo": {
     "elapsed": 66192,
     "status": "ok",
     "timestamp": 1672254166419,
     "user": {
      "displayName": "Mert Karabacak",
      "userId": "14308977132914475412"
     },
     "user_tz": 300
    },
    "id": "j6quRrNMwWSr"
   },
   "outputs": [],
   "source": [
    "#Read 2015 data.\n",
    "\n",
    "df2015 = pd.read_csv(\"/content/drive/MyDrive/NSQIP-PUFs/NSQIP_2015.csv\", index_col = 'CaseID', encoding = 'latin1', low_memory = False)\n",
    "\n",
    "df2015.columns = map(str.upper, df2015.columns)"
   ]
  },
  {
   "cell_type": "code",
   "execution_count": null,
   "id": "yqq_0stxwWS8",
   "metadata": {
    "colab": {
     "base_uri": "https://localhost:8080/"
    },
    "executionInfo": {
     "elapsed": 13,
     "status": "ok",
     "timestamp": 1672254166420,
     "user": {
      "displayName": "Mert Karabacak",
      "userId": "14308977132914475412"
     },
     "user_tz": 300
    },
    "id": "yqq_0stxwWS8",
    "outputId": "e03c5356-8290-4469-d32f-d31a7a1c4c3b"
   },
   "outputs": [],
   "source": [
    "#Check 2015 data shape.\n",
    "\n",
    "df2015.shape"
   ]
  },
  {
   "cell_type": "code",
   "execution_count": null,
   "id": "GXE8EFZjwWS9",
   "metadata": {
    "colab": {
     "base_uri": "https://localhost:8080/"
    },
    "executionInfo": {
     "elapsed": 696,
     "status": "ok",
     "timestamp": 1672254167106,
     "user": {
      "displayName": "Mert Karabacak",
      "userId": "14308977132914475412"
     },
     "user_tz": 300
    },
    "id": "GXE8EFZjwWS9",
    "outputId": "1941f405-3b39-42d2-fa87-ff8206d2f7a4"
   },
   "outputs": [],
   "source": [
    "#Identify ALIF with CPT codes.\n",
    "\n",
    "df2015_alif = df2015[(df2015['CPT'] == 22558) | (df2015['CONCPT1'] == 22558) | (df2015['CONCPT2'] == 22558) | (df2015['CONCPT3'] == 22558) | (df2015['CONCPT4'] == 22558) | (df2015['CONCPT5'] == 22558) | (df2015['CONCPT6'] == 22558) | (df2015['CONCPT7'] == 22558) | (df2015['CONCPT8'] == 22558) | (df2015['CONCPT9'] == 22558) | (df2015['CONCPT10'] == 22558) | (df2015['OTHERCPT1'] == 22558) | (df2015['OTHERCPT2'] == 22558) | (df2015['OTHERCPT3'] == 22558) | (df2015['OTHERCPT4'] == 22558) | (df2015['OTHERCPT5'] == 22558) | (df2015['OTHERCPT6'] == 22558) | (df2015['OTHERCPT7'] == 22558) | (df2015['OTHERCPT8'] == 22558) | (df2015['OTHERCPT9'] == 22558) | (df2015['OTHERCPT10'] == 22558)]\n",
    "print(df2015_alif.shape)"
   ]
  },
  {
   "cell_type": "code",
   "execution_count": null,
   "id": "zLl2Z0XDwYc7",
   "metadata": {
    "executionInfo": {
     "elapsed": 53059,
     "status": "ok",
     "timestamp": 1672254220163,
     "user": {
      "displayName": "Mert Karabacak",
      "userId": "14308977132914475412"
     },
     "user_tz": 300
    },
    "id": "zLl2Z0XDwYc7"
   },
   "outputs": [],
   "source": [
    "#Read 2014 data.\n",
    "\n",
    "df2014 = pd.read_csv(\"/content/drive/MyDrive/NSQIP-PUFs/NSQIP_2014.csv\", index_col = 'CaseID', encoding = 'latin1', low_memory = False)\n",
    "\n",
    "df2016.columns = map(str.upper, df2016.columns)"
   ]
  },
  {
   "cell_type": "code",
   "execution_count": null,
   "id": "8DqBjYe8wYc9",
   "metadata": {
    "colab": {
     "base_uri": "https://localhost:8080/"
    },
    "executionInfo": {
     "elapsed": 11,
     "status": "ok",
     "timestamp": 1672254220164,
     "user": {
      "displayName": "Mert Karabacak",
      "userId": "14308977132914475412"
     },
     "user_tz": 300
    },
    "id": "8DqBjYe8wYc9",
    "outputId": "695204a2-68c8-4e50-d71e-14b393a638a0"
   },
   "outputs": [],
   "source": [
    "#Check 2014 data shape.\n",
    "\n",
    "df2014.shape"
   ]
  },
  {
   "cell_type": "code",
   "execution_count": null,
   "id": "C9Fp_ZypwYc9",
   "metadata": {
    "colab": {
     "base_uri": "https://localhost:8080/"
    },
    "executionInfo": {
     "elapsed": 344,
     "status": "ok",
     "timestamp": 1672254220498,
     "user": {
      "displayName": "Mert Karabacak",
      "userId": "14308977132914475412"
     },
     "user_tz": 300
    },
    "id": "C9Fp_ZypwYc9",
    "outputId": "9d84abc6-0b3c-4797-98b1-04286606b691"
   },
   "outputs": [],
   "source": [
    "#Identify ALIF with CPT codes.\n",
    "\n",
    "df2014_alif = df2014[(df2014['CPT'] == 22558) | (df2014['CONCPT1'] == 22558) | (df2014['CONCPT2'] == 22558) | (df2014['CONCPT3'] == 22558) | (df2014['CONCPT4'] == 22558) | (df2014['CONCPT5'] == 22558) | (df2014['CONCPT6'] == 22558) | (df2014['CONCPT7'] == 22558) | (df2014['CONCPT8'] == 22558) | (df2014['CONCPT9'] == 22558) | (df2014['CONCPT10'] == 22558) | (df2014['OTHERCPT1'] == 22558) | (df2014['OTHERCPT2'] == 22558) | (df2014['OTHERCPT3'] == 22558) | (df2014['OTHERCPT4'] == 22558) | (df2014['OTHERCPT5'] == 22558) | (df2014['OTHERCPT6'] == 22558) | (df2014['OTHERCPT7'] == 22558) | (df2014['OTHERCPT8'] == 22558) | (df2014['OTHERCPT9'] == 22558) | (df2014['OTHERCPT10'] == 22558)]\n",
    "print(df2014_alif.shape)"
   ]
  },
  {
   "cell_type": "code",
   "execution_count": null,
   "id": "1b7d99af-1e65-4876-af89-7255c85e4160",
   "metadata": {
    "executionInfo": {
     "elapsed": 561,
     "status": "ok",
     "timestamp": 1672254221058,
     "user": {
      "displayName": "Mert Karabacak",
      "userId": "14308977132914475412"
     },
     "user_tz": 300
    },
    "id": "1b7d99af-1e65-4876-af89-7255c85e4160"
   },
   "outputs": [],
   "source": [
    "#Combine data.\n",
    "\n",
    "dfs = [df2014_alif, df2015_alif, df2016_alif, df2017_alif, df2018_alif, df2019_alif, df2020_alif]\n",
    "\n",
    "combined = pd.concat(dfs)"
   ]
  },
  {
   "cell_type": "code",
   "execution_count": null,
   "id": "8618f193-6d71-4a63-8e03-c55a5a87c117",
   "metadata": {
    "colab": {
     "base_uri": "https://localhost:8080/"
    },
    "executionInfo": {
     "elapsed": 6,
     "status": "ok",
     "timestamp": 1672254221059,
     "user": {
      "displayName": "Mert Karabacak",
      "userId": "14308977132914475412"
     },
     "user_tz": 300
    },
    "id": "8618f193-6d71-4a63-8e03-c55a5a87c117",
    "outputId": "37203751-23e9-43e6-db23-b4798d5dab64"
   },
   "outputs": [],
   "source": [
    "#Check data shape.\n",
    "\n",
    "combined.shape"
   ]
  },
  {
   "cell_type": "code",
   "execution_count": null,
   "id": "d1fead1c-70b3-4814-9546-c1e6bfe8fa13",
   "metadata": {
    "colab": {
     "base_uri": "https://localhost:8080/",
     "height": 647
    },
    "executionInfo": {
     "elapsed": 6,
     "status": "ok",
     "timestamp": 1672254221059,
     "user": {
      "displayName": "Mert Karabacak",
      "userId": "14308977132914475412"
     },
     "user_tz": 300
    },
    "id": "d1fead1c-70b3-4814-9546-c1e6bfe8fa13",
    "outputId": "25a63082-e376-40c5-8c8d-db4560ea861d"
   },
   "outputs": [],
   "source": [
    "\n",
    "#See combined dataframe head.\n",
    "\n",
    "combined.head()"
   ]
  },
  {
   "cell_type": "code",
   "execution_count": null,
   "id": "9088cd6b-d531-4450-9913-37be2ac78587",
   "metadata": {
    "colab": {
     "base_uri": "https://localhost:8080/",
     "height": 647
    },
    "executionInfo": {
     "elapsed": 4,
     "status": "ok",
     "timestamp": 1672254221059,
     "user": {
      "displayName": "Mert Karabacak",
      "userId": "14308977132914475412"
     },
     "user_tz": 300
    },
    "id": "9088cd6b-d531-4450-9913-37be2ac78587",
    "outputId": "521eabc5-5e6a-45f4-aca4-42be2a15ed85"
   },
   "outputs": [],
   "source": [
    "#See combined dataframe tail.\n",
    "\n",
    "combined.tail()"
   ]
  },
  {
   "cell_type": "code",
   "execution_count": null,
   "id": "cd269ba3-7d20-402e-96f1-c4394e1fef3b",
   "metadata": {
    "executionInfo": {
     "elapsed": 1872,
     "status": "ok",
     "timestamp": 1672254222927,
     "user": {
      "displayName": "Mert Karabacak",
      "userId": "14308977132914475412"
     },
     "user_tz": 300
    },
    "id": "cd269ba3-7d20-402e-96f1-c4394e1fef3b"
   },
   "outputs": [],
   "source": [
    "#Save combined data.\n",
    "\n",
    "combined.to_csv('/content/drive/MyDrive/NSQIP-ALIF/alif_combined.csv')"
   ]
  }
 ],
 "metadata": {
  "colab": {
   "machine_shape": "hm",
   "provenance": [
    {
     "file_id": "17aj-Lz8TX0s0hiZMy83U6YI3DzFLD0ZW",
     "timestamp": 1671639955853
    },
    {
     "file_id": "1DvHyPwQy7mpRwrN_rOzO-09A7CAMA0Uj",
     "timestamp": 1671032654360
    },
    {
     "file_id": "1oaw3j90w4kJTo-_wUmEj4_VwvTsD9O3r",
     "timestamp": 1670594756777
    },
    {
     "file_id": "13trwfUGkE1kSKt7ow-iCHeetffobv2nJ",
     "timestamp": 1669681277061
    },
    {
     "file_id": "https://github.com/mertkarabacak/NSQIP-ACDF/blob/main/concatenate.ipynb",
     "timestamp": 1669235177814
    }
   ]
  },
  "environment": {
   "kernel": "python3",
   "name": "common-cpu.m100",
   "type": "gcloud",
   "uri": "gcr.io/deeplearning-platform-release/base-cpu:m100"
  },
  "gpuClass": "standard",
  "kernelspec": {
   "display_name": "Python 3 (ipykernel)",
   "language": "python",
   "name": "python3"
  },
  "language_info": {
   "codemirror_mode": {
    "name": "ipython",
    "version": 3
   },
   "file_extension": ".py",
   "mimetype": "text/x-python",
   "name": "python",
   "nbconvert_exporter": "python",
   "pygments_lexer": "ipython3",
   "version": "3.9.7"
  }
 },
 "nbformat": 4,
 "nbformat_minor": 5
}
