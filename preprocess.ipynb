{
 "cells": [
  {
   "cell_type": "code",
   "execution_count": null,
   "id": "4AZmJ6jfWEN4",
   "metadata": {
    "colab": {
     "base_uri": "https://localhost:8080/"
    },
    "executionInfo": {
     "elapsed": 822,
     "status": "ok",
     "timestamp": 1672254309201,
     "user": {
      "displayName": "Mert Karabacak",
      "userId": "14308977132914475412"
     },
     "user_tz": 300
    },
    "id": "4AZmJ6jfWEN4",
    "outputId": "fe908204-ea7d-4cd6-8c66-541063d3d387"
   },
   "outputs": [],
   "source": [
    "from google.colab import drive\n",
    "drive.mount('/content/drive')"
   ]
  },
  {
   "cell_type": "code",
   "execution_count": null,
   "id": "45bff18b",
   "metadata": {
    "executionInfo": {
     "elapsed": 852,
     "status": "ok",
     "timestamp": 1672254310051,
     "user": {
      "displayName": "Mert Karabacak",
      "userId": "14308977132914475412"
     },
     "user_tz": 300
    },
    "id": "45bff18b"
   },
   "outputs": [],
   "source": [
    "import numpy as np\n",
    "import pandas as pd\n",
    "from pandas.api.types import CategoricalDtype\n",
    "\n",
    "from sklearn.preprocessing import OneHotEncoder\n",
    "from sklearn.preprocessing import LabelEncoder\n",
    "from sklearn.preprocessing import MinMaxScaler\n",
    "from sklearn.impute import KNNImputer\n",
    "\n",
    "from matplotlib import pyplot as plt\n",
    "\n",
    "pd.set_option('display.max_rows', None)"
   ]
  },
  {
   "cell_type": "code",
   "execution_count": null,
   "id": "721c822b",
   "metadata": {
    "colab": {
     "base_uri": "https://localhost:8080/",
     "height": 681
    },
    "executionInfo": {
     "elapsed": 1395,
     "status": "ok",
     "timestamp": 1672254311444,
     "user": {
      "displayName": "Mert Karabacak",
      "userId": "14308977132914475412"
     },
     "user_tz": 300
    },
    "id": "721c822b",
    "outputId": "61b99727-17ac-4c1c-e134-86157f4d0639"
   },
   "outputs": [],
   "source": [
    "#Open csv file.\n",
    "\n",
    "data = pd.read_csv(\"/content/drive/MyDrive/NSQIP-ALIF/alif_combined.csv\", index_col=0, na_values = -99)\n",
    "data.head()"
   ]
  },
  {
   "cell_type": "code",
   "execution_count": null,
   "id": "2ddf793b",
   "metadata": {
    "colab": {
     "base_uri": "https://localhost:8080/"
    },
    "executionInfo": {
     "elapsed": 10,
     "status": "ok",
     "timestamp": 1672254311444,
     "user": {
      "displayName": "Mert Karabacak",
      "userId": "14308977132914475412"
     },
     "user_tz": 300
    },
    "id": "2ddf793b",
    "outputId": "6dfc33af-c248-4a89-fbea-e596ed3af613"
   },
   "outputs": [],
   "source": [
    "#See all columns.\n",
    "\n",
    "print(list(data.columns))"
   ]
  },
  {
   "cell_type": "code",
   "execution_count": null,
   "id": "6b72f120",
   "metadata": {
    "colab": {
     "base_uri": "https://localhost:8080/"
    },
    "executionInfo": {
     "elapsed": 6,
     "status": "ok",
     "timestamp": 1672254311444,
     "user": {
      "displayName": "Mert Karabacak",
      "userId": "14308977132914475412"
     },
     "user_tz": 300
    },
    "id": "6b72f120",
    "outputId": "c48768b0-21fd-4432-bc72-1b6ffec21cb5"
   },
   "outputs": [],
   "source": [
    "#Check data shape.\n",
    "\n",
    "data.shape"
   ]
  },
  {
   "cell_type": "code",
   "execution_count": null,
   "id": "a143c94a",
   "metadata": {
    "executionInfo": {
     "elapsed": 5,
     "status": "ok",
     "timestamp": 1672254311445,
     "user": {
      "displayName": "Mert Karabacak",
      "userId": "14308977132914475412"
     },
     "user_tz": 300
    },
    "id": "a143c94a"
   },
   "outputs": [],
   "source": [
    "#Define variables of interest (predictor variables, inclusion/exclusion criteria, outcomes of interest).\n",
    "\n",
    "variables = ['SEX', 'RACE_NEW', 'ETHNICITY_HISPANIC', 'CPT', 'INOUT', 'TRANST', 'AGE', 'DISCHDEST', 'ANESTHES', 'SURGSPEC', 'ELECTSURG', 'HEIGHT', 'WEIGHT', 'DIABETES', 'SMOKE', 'DYSPNEA', 'FNSTATUS2', 'VENTILAT', 'HXCOPD', 'ASCITES', 'HXCHF', 'HYPERMED', 'RENAFAIL', 'DIALYSIS', 'DISCANCR', 'WNDINF', 'STEROID', 'WTLOSS', 'BLEEDDIS', 'TRANSFUS', 'PRSEPIS', 'PRSODM', 'PRBUN', 'PRCREAT', 'PRALBUM', 'PRBILI', 'PRSGOT', 'PRALKPH', 'PRWBC', 'PRHCT', 'PRPLATE', 'PRPTT', 'PRINR', 'PRPT', 'OTHERCPT1', 'OTHERCPT2', 'OTHERCPT3', 'OTHERCPT4', 'OTHERCPT5', 'OTHERCPT6', 'OTHERCPT7', 'OTHERCPT8', 'OTHERCPT9', 'OTHERCPT10', 'CONCPT1', 'CONCPT2', 'CONCPT3', 'CONCPT4', 'CONCPT5', 'CONCPT6', 'CONCPT7', 'CONCPT8', 'CONCPT9', 'CONCPT10', 'EMERGNCY', 'WNDCLAS', 'ASACLAS', 'OPTIME', 'TOTHLOS', 'HTOODAY', 'NSUPINFEC', 'NWNDINFD', 'NORGSPCSSI', 'NDEHIS', 'NOUPNEUMO', 'NREINTUB', 'NPULEMBOL', 'NFAILWEAN', 'NRENAINSF', 'NOPRENAFL', 'NURNINFEC', 'NCNSCVA', 'NCDARREST', 'NCDMI', 'NOTHBLEED', 'NOTHDVT', 'NOTHSYSEP', 'NOTHSESHOCK', 'PODIAG', 'PODIAG10', 'STILLINHOSP', 'READMISSION1']"
   ]
  },
  {
   "cell_type": "code",
   "execution_count": null,
   "id": "a21a408c",
   "metadata": {
    "colab": {
     "base_uri": "https://localhost:8080/"
    },
    "executionInfo": {
     "elapsed": 173,
     "status": "ok",
     "timestamp": 1672254311613,
     "user": {
      "displayName": "Mert Karabacak",
      "userId": "14308977132914475412"
     },
     "user_tz": 300
    },
    "id": "a21a408c",
    "outputId": "ff79730c-69dd-4d51-f0a5-58ed372c6b77"
   },
   "outputs": [],
   "source": [
    "#Remove unwanted columns and check data shape.\n",
    "\n",
    "data = data[variables]\n",
    "\n",
    "data.shape"
   ]
  },
  {
   "cell_type": "code",
   "execution_count": null,
   "id": "N-j6Rc6zvAiu",
   "metadata": {
    "executionInfo": {
     "elapsed": 3,
     "status": "ok",
     "timestamp": 1672254311614,
     "user": {
      "displayName": "Mert Karabacak",
      "userId": "14308977132914475412"
     },
     "user_tz": 300
    },
    "id": "N-j6Rc6zvAiu"
   },
   "outputs": [],
   "source": [
    "#See the ICD codes' unique value counts for the patient cohort.\n",
    "\n",
    "icd_codes_df = data['PODIAG10'].value_counts(normalize=False, dropna=False).to_frame()\n",
    "icd_codes_index = icd_codes_df.index.tolist()"
   ]
  },
  {
   "cell_type": "code",
   "execution_count": null,
   "id": "dOWooTUzvBJT",
   "metadata": {
    "executionInfo": {
     "elapsed": 2,
     "status": "ok",
     "timestamp": 1672254311614,
     "user": {
      "displayName": "Mert Karabacak",
      "userId": "14308977132914475412"
     },
     "user_tz": 300
    },
    "id": "dOWooTUzvBJT"
   },
   "outputs": [],
   "source": [
    "#Exclude patients with ICD codes that were used less than 10 in the patient population.\n",
    "\n",
    "icd_codes_df = data['PODIAG10'].value_counts(normalize=False, dropna=False).to_frame()\n",
    "\n",
    "icd_codes_df.columns =['Value']\n",
    "\n",
    "icd_codes_df = icd_codes_df[icd_codes_df['Value'] >= 10]\n",
    "\n",
    "icd_to_include = icd_codes_df.index.tolist()\n",
    "\n",
    "data = data[data.PODIAG10.isin(icd_to_include)]"
   ]
  },
  {
   "cell_type": "code",
   "execution_count": null,
   "id": "Gp7RsJE-vE4T",
   "metadata": {
    "executionInfo": {
     "elapsed": 2,
     "status": "ok",
     "timestamp": 1672254311614,
     "user": {
      "displayName": "Mert Karabacak",
      "userId": "14308977132914475412"
     },
     "user_tz": 300
    },
    "id": "Gp7RsJE-vE4T"
   },
   "outputs": [],
   "source": [
    "#Get the descriptions for ICD codes.\n",
    "\n",
    "icd10 = pd.read_csv(\"/content/drive/MyDrive/NSQIP-ALIF/icd10_descriptions.csv\", index_col = 'PODIAG10', encoding = 'latin1', low_memory = False)\n",
    "icd10 = icd10.filter(items = icd_to_include, axis=0)"
   ]
  },
  {
   "cell_type": "code",
   "execution_count": null,
   "id": "bfXn57f5vIhb",
   "metadata": {
    "executionInfo": {
     "elapsed": 84,
     "status": "ok",
     "timestamp": 1672254311696,
     "user": {
      "displayName": "Mert Karabacak",
      "userId": "14308977132914475412"
     },
     "user_tz": 300
    },
    "id": "bfXn57f5vIhb"
   },
   "outputs": [],
   "source": [
    "#Save the ICD codes with descriptions and value counts.\n",
    "\n",
    "icd = pd.concat([icd10, icd_codes_df], axis=1)\n",
    "icd.to_csv('/content/drive/MyDrive/NSQIP-ALIF/icd.csv')"
   ]
  },
  {
   "cell_type": "code",
   "execution_count": null,
   "id": "W-ZGghQhvLi1",
   "metadata": {
    "executionInfo": {
     "elapsed": 5,
     "status": "ok",
     "timestamp": 1672254311696,
     "user": {
      "displayName": "Mert Karabacak",
      "userId": "14308977132914475412"
     },
     "user_tz": 300
    },
    "id": "W-ZGghQhvLi1"
   },
   "outputs": [],
   "source": [
    "#Review the ICD table for excluding patients with exclude patients diagnosed with a fracture, neoplasm, infection, instrumentation related complications or lumbar/thoracic/sacral site diagnoses.\n",
    "\n",
    "icd_to_exclude = ['M96.0', 'M41.86', 'M41.9', 'M41.85', 'M84.226A', 'M84.216A', 'M41.87', 'S32.009K', 'M41.25', 'M41.20', 'M46.26', 'M41.80', 'M41.27', 'T84.498A', 'M84.58XA']\n",
    "\n",
    "data = data[~data.PODIAG10.isin(icd_to_exclude)]"
   ]
  },
  {
   "cell_type": "code",
   "execution_count": null,
   "id": "PZhZsFCmvNBR",
   "metadata": {
    "colab": {
     "base_uri": "https://localhost:8080/"
    },
    "executionInfo": {
     "elapsed": 4,
     "status": "ok",
     "timestamp": 1672254311696,
     "user": {
      "displayName": "Mert Karabacak",
      "userId": "14308977132914475412"
     },
     "user_tz": 300
    },
    "id": "PZhZsFCmvNBR",
    "outputId": "791cc85e-0e41-4848-890c-9f4f6a8aa5ee"
   },
   "outputs": [],
   "source": [
    "#Drop patients with missing ICD codes.\n",
    "\n",
    "data = data[data['PODIAG10'].notna()]\n",
    "\n",
    "data.shape"
   ]
  },
  {
   "cell_type": "code",
   "execution_count": null,
   "id": "k9R4ndnVvOm5",
   "metadata": {
    "colab": {
     "base_uri": "https://localhost:8080/"
    },
    "executionInfo": {
     "elapsed": 4,
     "status": "ok",
     "timestamp": 1672254311696,
     "user": {
      "displayName": "Mert Karabacak",
      "userId": "14308977132914475412"
     },
     "user_tz": 300
    },
    "id": "k9R4ndnVvOm5",
    "outputId": "160ba90a-4c1b-4cd3-e1ca-691a1a9815e3"
   },
   "outputs": [],
   "source": [
    "#Check data for ICD codes.\n",
    "\n",
    "data['PODIAG10'].value_counts(normalize=False, dropna=False)"
   ]
  },
  {
   "cell_type": "code",
   "execution_count": null,
   "id": "lrQkyLFr3jcd",
   "metadata": {
    "colab": {
     "base_uri": "https://localhost:8080/"
    },
    "executionInfo": {
     "elapsed": 629,
     "status": "ok",
     "timestamp": 1672254312323,
     "user": {
      "displayName": "Mert Karabacak",
      "userId": "14308977132914475412"
     },
     "user_tz": 300
    },
    "id": "lrQkyLFr3jcd",
    "outputId": "54e86c5a-a7ad-4261-d91d-2f7fc384374e"
   },
   "outputs": [],
   "source": [
    "#Define the CPT to codes to exclude (anterior cervical procedures, thoracic and/or lumbar fusion, revision, intraspinal lesion).\n",
    "\n",
    "data.loc[data['CPT'] == 22612, 'CPT_EX'] = 'Yes'\n",
    "data.loc[data['CPT'] == 22800, 'CPT_EX'] = 'Yes'\n",
    "data.loc[data['CPT'] == 22802, 'CPT_EX'] = 'Yes'\n",
    "data.loc[data['CPT'] == 22804, 'CPT_EX'] = 'Yes'\n",
    "data.loc[data['CPT'] == 22840, 'CPT_EX'] = 'Yes'\n",
    "data.loc[data['CPT'] == 22842, 'CPT_EX'] = 'Yes'\n",
    "data.loc[data['CPT'] == 22843, 'CPT_EX'] = 'Yes'\n",
    "data.loc[data['CPT'] == 22844, 'CPT_EX'] = 'Yes'\n",
    "data.loc[data['CPT'] == 63030, 'CPT_EX'] = 'Yes'\n",
    "data.loc[data['CPT'] == 63042, 'CPT_EX'] = 'Yes'\n",
    "data.loc[data['CPT'] == 63047, 'CPT_EX'] = 'Yes'\n",
    "\n",
    "data.loc[data['CONCPT1'] == 22612, 'CPT_EX'] = 'Yes'\n",
    "data.loc[data['CONCPT1'] == 22800, 'CPT_EX'] = 'Yes'\n",
    "data.loc[data['CONCPT1'] == 22802, 'CPT_EX'] = 'Yes'\n",
    "data.loc[data['CONCPT1'] == 22804, 'CPT_EX'] = 'Yes'\n",
    "data.loc[data['CONCPT1'] == 22840, 'CPT_EX'] = 'Yes'\n",
    "data.loc[data['CONCPT1'] == 22842, 'CPT_EX'] = 'Yes'\n",
    "data.loc[data['CONCPT1'] == 22843, 'CPT_EX'] = 'Yes'\n",
    "data.loc[data['CONCPT1'] == 22844, 'CPT_EX'] = 'Yes'\n",
    "data.loc[data['CONCPT1'] == 63030, 'CPT_EX'] = 'Yes'\n",
    "data.loc[data['CONCPT1'] == 63042, 'CPT_EX'] = 'Yes'\n",
    "data.loc[data['CONCPT1'] == 63047, 'CPT_EX'] = 'Yes'\n",
    "\n",
    "data.loc[data['CONCPT2'] == 22612, 'CPT_EX'] = 'Yes'\n",
    "data.loc[data['CONCPT2'] == 22800, 'CPT_EX'] = 'Yes'\n",
    "data.loc[data['CONCPT2'] == 22802, 'CPT_EX'] = 'Yes'\n",
    "data.loc[data['CONCPT2'] == 22804, 'CPT_EX'] = 'Yes'\n",
    "data.loc[data['CONCPT2'] == 22840, 'CPT_EX'] = 'Yes'\n",
    "data.loc[data['CONCPT2'] == 22842, 'CPT_EX'] = 'Yes'\n",
    "data.loc[data['CONCPT2'] == 22843, 'CPT_EX'] = 'Yes'\n",
    "data.loc[data['CONCPT2'] == 22844, 'CPT_EX'] = 'Yes'\n",
    "data.loc[data['CONCPT2'] == 63030, 'CPT_EX'] = 'Yes'\n",
    "data.loc[data['CONCPT2'] == 63042, 'CPT_EX'] = 'Yes'\n",
    "data.loc[data['CONCPT2'] == 63047, 'CPT_EX'] = 'Yes'\n",
    "\n",
    "data.loc[data['CONCPT3'] == 22612, 'CPT_EX'] = 'Yes'\n",
    "data.loc[data['CONCPT3'] == 22800, 'CPT_EX'] = 'Yes'\n",
    "data.loc[data['CONCPT3'] == 22802, 'CPT_EX'] = 'Yes'\n",
    "data.loc[data['CONCPT3'] == 22804, 'CPT_EX'] = 'Yes'\n",
    "data.loc[data['CONCPT3'] == 22840, 'CPT_EX'] = 'Yes'\n",
    "data.loc[data['CONCPT3'] == 22842, 'CPT_EX'] = 'Yes'\n",
    "data.loc[data['CONCPT3'] == 22843, 'CPT_EX'] = 'Yes'\n",
    "data.loc[data['CONCPT3'] == 22844, 'CPT_EX'] = 'Yes'\n",
    "data.loc[data['CONCPT3'] == 63030, 'CPT_EX'] = 'Yes'\n",
    "data.loc[data['CONCPT3'] == 63042, 'CPT_EX'] = 'Yes'\n",
    "data.loc[data['CONCPT3'] == 63047, 'CPT_EX'] = 'Yes'\n",
    "\n",
    "data.loc[data['CONCPT4'] == 22612, 'CPT_EX'] = 'Yes'\n",
    "data.loc[data['CONCPT4'] == 22800, 'CPT_EX'] = 'Yes'\n",
    "data.loc[data['CONCPT4'] == 22802, 'CPT_EX'] = 'Yes'\n",
    "data.loc[data['CONCPT4'] == 22804, 'CPT_EX'] = 'Yes'\n",
    "data.loc[data['CONCPT4'] == 22840, 'CPT_EX'] = 'Yes'\n",
    "data.loc[data['CONCPT4'] == 22842, 'CPT_EX'] = 'Yes'\n",
    "data.loc[data['CONCPT4'] == 22843, 'CPT_EX'] = 'Yes'\n",
    "data.loc[data['CONCPT4'] == 22844, 'CPT_EX'] = 'Yes'\n",
    "data.loc[data['CONCPT4'] == 63030, 'CPT_EX'] = 'Yes'\n",
    "data.loc[data['CONCPT4'] == 63042, 'CPT_EX'] = 'Yes'\n",
    "data.loc[data['CONCPT4'] == 63047, 'CPT_EX'] = 'Yes'\n",
    "\n",
    "data.loc[data['CONCPT5'] == 22612, 'CPT_EX'] = 'Yes'\n",
    "data.loc[data['CONCPT5'] == 22800, 'CPT_EX'] = 'Yes'\n",
    "data.loc[data['CONCPT5'] == 22802, 'CPT_EX'] = 'Yes'\n",
    "data.loc[data['CONCPT5'] == 22804, 'CPT_EX'] = 'Yes'\n",
    "data.loc[data['CONCPT5'] == 22840, 'CPT_EX'] = 'Yes'\n",
    "data.loc[data['CONCPT5'] == 22842, 'CPT_EX'] = 'Yes'\n",
    "data.loc[data['CONCPT5'] == 22843, 'CPT_EX'] = 'Yes'\n",
    "data.loc[data['CONCPT5'] == 22844, 'CPT_EX'] = 'Yes'\n",
    "data.loc[data['CONCPT5'] == 63030, 'CPT_EX'] = 'Yes'\n",
    "data.loc[data['CONCPT5'] == 63042, 'CPT_EX'] = 'Yes'\n",
    "data.loc[data['CONCPT5'] == 63047, 'CPT_EX'] = 'Yes'\n",
    "\n",
    "data.loc[data['CONCPT6'] == 22612, 'CPT_EX'] = 'Yes'\n",
    "data.loc[data['CONCPT6'] == 22800, 'CPT_EX'] = 'Yes'\n",
    "data.loc[data['CONCPT6'] == 22802, 'CPT_EX'] = 'Yes'\n",
    "data.loc[data['CONCPT6'] == 22804, 'CPT_EX'] = 'Yes'\n",
    "data.loc[data['CONCPT6'] == 22840, 'CPT_EX'] = 'Yes'\n",
    "data.loc[data['CONCPT6'] == 22842, 'CPT_EX'] = 'Yes'\n",
    "data.loc[data['CONCPT6'] == 22843, 'CPT_EX'] = 'Yes'\n",
    "data.loc[data['CONCPT6'] == 22844, 'CPT_EX'] = 'Yes'\n",
    "data.loc[data['CONCPT6'] == 63030, 'CPT_EX'] = 'Yes'\n",
    "data.loc[data['CONCPT6'] == 63042, 'CPT_EX'] = 'Yes'\n",
    "data.loc[data['CONCPT6'] == 63047, 'CPT_EX'] = 'Yes'\n",
    "\n",
    "data.loc[data['CONCPT7'] == 22612, 'CPT_EX'] = 'Yes'\n",
    "data.loc[data['CONCPT7'] == 22800, 'CPT_EX'] = 'Yes'\n",
    "data.loc[data['CONCPT7'] == 22802, 'CPT_EX'] = 'Yes'\n",
    "data.loc[data['CONCPT7'] == 22804, 'CPT_EX'] = 'Yes'\n",
    "data.loc[data['CONCPT7'] == 22840, 'CPT_EX'] = 'Yes'\n",
    "data.loc[data['CONCPT7'] == 22842, 'CPT_EX'] = 'Yes'\n",
    "data.loc[data['CONCPT7'] == 22843, 'CPT_EX'] = 'Yes'\n",
    "data.loc[data['CONCPT7'] == 22844, 'CPT_EX'] = 'Yes'\n",
    "data.loc[data['CONCPT7'] == 63030, 'CPT_EX'] = 'Yes'\n",
    "data.loc[data['CONCPT7'] == 63042, 'CPT_EX'] = 'Yes'\n",
    "data.loc[data['CONCPT7'] == 63047, 'CPT_EX'] = 'Yes'\n",
    "\n",
    "data.loc[data['CONCPT8'] == 22612, 'CPT_EX'] = 'Yes'\n",
    "data.loc[data['CONCPT8'] == 22800, 'CPT_EX'] = 'Yes'\n",
    "data.loc[data['CONCPT8'] == 22802, 'CPT_EX'] = 'Yes'\n",
    "data.loc[data['CONCPT8'] == 22804, 'CPT_EX'] = 'Yes'\n",
    "data.loc[data['CONCPT8'] == 22840, 'CPT_EX'] = 'Yes'\n",
    "data.loc[data['CONCPT8'] == 22842, 'CPT_EX'] = 'Yes'\n",
    "data.loc[data['CONCPT8'] == 22843, 'CPT_EX'] = 'Yes'\n",
    "data.loc[data['CONCPT8'] == 22844, 'CPT_EX'] = 'Yes'\n",
    "data.loc[data['CONCPT8'] == 63030, 'CPT_EX'] = 'Yes'\n",
    "data.loc[data['CONCPT8'] == 63042, 'CPT_EX'] = 'Yes'\n",
    "data.loc[data['CONCPT8'] == 63047, 'CPT_EX'] = 'Yes'\n",
    "\n",
    "data.loc[data['CONCPT9'] == 22612, 'CPT_EX'] = 'Yes'\n",
    "data.loc[data['CONCPT9'] == 22800, 'CPT_EX'] = 'Yes'\n",
    "data.loc[data['CONCPT9'] == 22802, 'CPT_EX'] = 'Yes'\n",
    "data.loc[data['CONCPT9'] == 22804, 'CPT_EX'] = 'Yes'\n",
    "data.loc[data['CONCPT9'] == 22840, 'CPT_EX'] = 'Yes'\n",
    "data.loc[data['CONCPT9'] == 22842, 'CPT_EX'] = 'Yes'\n",
    "data.loc[data['CONCPT9'] == 22843, 'CPT_EX'] = 'Yes'\n",
    "data.loc[data['CONCPT9'] == 22844, 'CPT_EX'] = 'Yes'\n",
    "data.loc[data['CONCPT9'] == 63030, 'CPT_EX'] = 'Yes'\n",
    "data.loc[data['CONCPT9'] == 63042, 'CPT_EX'] = 'Yes'\n",
    "data.loc[data['CONCPT9'] == 63047, 'CPT_EX'] = 'Yes'\n",
    "\n",
    "data.loc[data['CONCPT10'] == 22612, 'CPT_EX'] = 'Yes'\n",
    "data.loc[data['CONCPT10'] == 22800, 'CPT_EX'] = 'Yes'\n",
    "data.loc[data['CONCPT10'] == 22802, 'CPT_EX'] = 'Yes'\n",
    "data.loc[data['CONCPT10'] == 22804, 'CPT_EX'] = 'Yes'\n",
    "data.loc[data['CONCPT10'] == 22840, 'CPT_EX'] = 'Yes'\n",
    "data.loc[data['CONCPT10'] == 22842, 'CPT_EX'] = 'Yes'\n",
    "data.loc[data['CONCPT10'] == 22843, 'CPT_EX'] = 'Yes'\n",
    "data.loc[data['CONCPT10'] == 22844, 'CPT_EX'] = 'Yes'\n",
    "data.loc[data['CONCPT10'] == 63030, 'CPT_EX'] = 'Yes'\n",
    "data.loc[data['CONCPT10'] == 63042, 'CPT_EX'] = 'Yes'\n",
    "data.loc[data['CONCPT10'] == 63047, 'CPT_EX'] = 'Yes'\n",
    "\n",
    "data.loc[data['OTHERCPT1'] == 22612, 'CPT_EX'] = 'Yes'\n",
    "data.loc[data['OTHERCPT1'] == 22800, 'CPT_EX'] = 'Yes'\n",
    "data.loc[data['OTHERCPT1'] == 22802, 'CPT_EX'] = 'Yes'\n",
    "data.loc[data['OTHERCPT1'] == 22804, 'CPT_EX'] = 'Yes'\n",
    "data.loc[data['OTHERCPT1'] == 22840, 'CPT_EX'] = 'Yes'\n",
    "data.loc[data['OTHERCPT1'] == 22842, 'CPT_EX'] = 'Yes'\n",
    "data.loc[data['OTHERCPT1'] == 22843, 'CPT_EX'] = 'Yes'\n",
    "data.loc[data['OTHERCPT1'] == 22844, 'CPT_EX'] = 'Yes'\n",
    "data.loc[data['OTHERCPT1'] == 63030, 'CPT_EX'] = 'Yes'\n",
    "data.loc[data['OTHERCPT1'] == 63042, 'CPT_EX'] = 'Yes'\n",
    "data.loc[data['OTHERCPT1'] == 63047, 'CPT_EX'] = 'Yes'\n",
    "\n",
    "data.loc[data['OTHERCPT2'] == 22612, 'CPT_EX'] = 'Yes'\n",
    "data.loc[data['OTHERCPT2'] == 22800, 'CPT_EX'] = 'Yes'\n",
    "data.loc[data['OTHERCPT2'] == 22802, 'CPT_EX'] = 'Yes'\n",
    "data.loc[data['OTHERCPT2'] == 22804, 'CPT_EX'] = 'Yes'\n",
    "data.loc[data['OTHERCPT2'] == 22840, 'CPT_EX'] = 'Yes'\n",
    "data.loc[data['OTHERCPT2'] == 22842, 'CPT_EX'] = 'Yes'\n",
    "data.loc[data['OTHERCPT2'] == 22843, 'CPT_EX'] = 'Yes'\n",
    "data.loc[data['OTHERCPT2'] == 22844, 'CPT_EX'] = 'Yes'\n",
    "data.loc[data['OTHERCPT2'] == 63030, 'CPT_EX'] = 'Yes'\n",
    "data.loc[data['OTHERCPT2'] == 63042, 'CPT_EX'] = 'Yes'\n",
    "data.loc[data['OTHERCPT2'] == 63047, 'CPT_EX'] = 'Yes'\n",
    "\n",
    "data.loc[data['OTHERCPT3'] == 22612, 'CPT_EX'] = 'Yes'\n",
    "data.loc[data['OTHERCPT3'] == 22800, 'CPT_EX'] = 'Yes'\n",
    "data.loc[data['OTHERCPT3'] == 22802, 'CPT_EX'] = 'Yes'\n",
    "data.loc[data['OTHERCPT3'] == 22804, 'CPT_EX'] = 'Yes'\n",
    "data.loc[data['OTHERCPT3'] == 22840, 'CPT_EX'] = 'Yes'\n",
    "data.loc[data['OTHERCPT3'] == 22842, 'CPT_EX'] = 'Yes'\n",
    "data.loc[data['OTHERCPT3'] == 22843, 'CPT_EX'] = 'Yes'\n",
    "data.loc[data['OTHERCPT3'] == 22844, 'CPT_EX'] = 'Yes'\n",
    "data.loc[data['OTHERCPT3'] == 63030, 'CPT_EX'] = 'Yes'\n",
    "data.loc[data['OTHERCPT3'] == 63042, 'CPT_EX'] = 'Yes'\n",
    "data.loc[data['OTHERCPT3'] == 63047, 'CPT_EX'] = 'Yes'\n",
    "\n",
    "data.loc[data['OTHERCPT4'] == 22612, 'CPT_EX'] = 'Yes'\n",
    "data.loc[data['OTHERCPT4'] == 22800, 'CPT_EX'] = 'Yes'\n",
    "data.loc[data['OTHERCPT4'] == 22802, 'CPT_EX'] = 'Yes'\n",
    "data.loc[data['OTHERCPT4'] == 22804, 'CPT_EX'] = 'Yes'\n",
    "data.loc[data['OTHERCPT4'] == 22840, 'CPT_EX'] = 'Yes'\n",
    "data.loc[data['OTHERCPT4'] == 22842, 'CPT_EX'] = 'Yes'\n",
    "data.loc[data['OTHERCPT4'] == 22843, 'CPT_EX'] = 'Yes'\n",
    "data.loc[data['OTHERCPT4'] == 22844, 'CPT_EX'] = 'Yes'\n",
    "data.loc[data['OTHERCPT4'] == 63030, 'CPT_EX'] = 'Yes'\n",
    "data.loc[data['OTHERCPT4'] == 63042, 'CPT_EX'] = 'Yes'\n",
    "data.loc[data['OTHERCPT4'] == 63047, 'CPT_EX'] = 'Yes'\n",
    "\n",
    "data.loc[data['OTHERCPT5'] == 22612, 'CPT_EX'] = 'Yes'\n",
    "data.loc[data['OTHERCPT5'] == 22800, 'CPT_EX'] = 'Yes'\n",
    "data.loc[data['OTHERCPT5'] == 22802, 'CPT_EX'] = 'Yes'\n",
    "data.loc[data['OTHERCPT5'] == 22804, 'CPT_EX'] = 'Yes'\n",
    "data.loc[data['OTHERCPT5'] == 22840, 'CPT_EX'] = 'Yes'\n",
    "data.loc[data['OTHERCPT5'] == 22842, 'CPT_EX'] = 'Yes'\n",
    "data.loc[data['OTHERCPT5'] == 22843, 'CPT_EX'] = 'Yes'\n",
    "data.loc[data['OTHERCPT5'] == 22844, 'CPT_EX'] = 'Yes'\n",
    "data.loc[data['OTHERCPT5'] == 63030, 'CPT_EX'] = 'Yes'\n",
    "data.loc[data['OTHERCPT5'] == 63042, 'CPT_EX'] = 'Yes'\n",
    "data.loc[data['OTHERCPT5'] == 63047, 'CPT_EX'] = 'Yes'\n",
    "\n",
    "data.loc[data['OTHERCPT6'] == 22612, 'CPT_EX'] = 'Yes'\n",
    "data.loc[data['OTHERCPT6'] == 22800, 'CPT_EX'] = 'Yes'\n",
    "data.loc[data['OTHERCPT6'] == 22802, 'CPT_EX'] = 'Yes'\n",
    "data.loc[data['OTHERCPT6'] == 22804, 'CPT_EX'] = 'Yes'\n",
    "data.loc[data['OTHERCPT6'] == 22840, 'CPT_EX'] = 'Yes'\n",
    "data.loc[data['OTHERCPT6'] == 22842, 'CPT_EX'] = 'Yes'\n",
    "data.loc[data['OTHERCPT6'] == 22843, 'CPT_EX'] = 'Yes'\n",
    "data.loc[data['OTHERCPT6'] == 22844, 'CPT_EX'] = 'Yes'\n",
    "data.loc[data['OTHERCPT6'] == 63030, 'CPT_EX'] = 'Yes'\n",
    "data.loc[data['OTHERCPT6'] == 63042, 'CPT_EX'] = 'Yes'\n",
    "data.loc[data['OTHERCPT6'] == 63047, 'CPT_EX'] = 'Yes'\n",
    "\n",
    "data.loc[data['OTHERCPT7'] == 22612, 'CPT_EX'] = 'Yes'\n",
    "data.loc[data['OTHERCPT7'] == 22800, 'CPT_EX'] = 'Yes'\n",
    "data.loc[data['OTHERCPT7'] == 22802, 'CPT_EX'] = 'Yes'\n",
    "data.loc[data['OTHERCPT7'] == 22804, 'CPT_EX'] = 'Yes'\n",
    "data.loc[data['OTHERCPT7'] == 22840, 'CPT_EX'] = 'Yes'\n",
    "data.loc[data['OTHERCPT7'] == 22842, 'CPT_EX'] = 'Yes'\n",
    "data.loc[data['OTHERCPT7'] == 22843, 'CPT_EX'] = 'Yes'\n",
    "data.loc[data['OTHERCPT7'] == 22844, 'CPT_EX'] = 'Yes'\n",
    "data.loc[data['OTHERCPT7'] == 63030, 'CPT_EX'] = 'Yes'\n",
    "data.loc[data['OTHERCPT7'] == 63042, 'CPT_EX'] = 'Yes'\n",
    "data.loc[data['OTHERCPT7'] == 63047, 'CPT_EX'] = 'Yes'\n",
    "\n",
    "data.loc[data['OTHERCPT8'] == 22612, 'CPT_EX'] = 'Yes'\n",
    "data.loc[data['OTHERCPT8'] == 22800, 'CPT_EX'] = 'Yes'\n",
    "data.loc[data['OTHERCPT8'] == 22802, 'CPT_EX'] = 'Yes'\n",
    "data.loc[data['OTHERCPT8'] == 22804, 'CPT_EX'] = 'Yes'\n",
    "data.loc[data['OTHERCPT8'] == 22840, 'CPT_EX'] = 'Yes'\n",
    "data.loc[data['OTHERCPT8'] == 22842, 'CPT_EX'] = 'Yes'\n",
    "data.loc[data['OTHERCPT8'] == 22843, 'CPT_EX'] = 'Yes'\n",
    "data.loc[data['OTHERCPT8'] == 22844, 'CPT_EX'] = 'Yes'\n",
    "data.loc[data['OTHERCPT8'] == 63030, 'CPT_EX'] = 'Yes'\n",
    "data.loc[data['OTHERCPT8'] == 63042, 'CPT_EX'] = 'Yes'\n",
    "data.loc[data['OTHERCPT8'] == 63047, 'CPT_EX'] = 'Yes'\n",
    "\n",
    "data.loc[data['OTHERCPT9'] == 22612, 'CPT_EX'] = 'Yes'\n",
    "data.loc[data['OTHERCPT9'] == 22800, 'CPT_EX'] = 'Yes'\n",
    "data.loc[data['OTHERCPT9'] == 22802, 'CPT_EX'] = 'Yes'\n",
    "data.loc[data['OTHERCPT9'] == 22804, 'CPT_EX'] = 'Yes'\n",
    "data.loc[data['OTHERCPT9'] == 22840, 'CPT_EX'] = 'Yes'\n",
    "data.loc[data['OTHERCPT9'] == 22842, 'CPT_EX'] = 'Yes'\n",
    "data.loc[data['OTHERCPT9'] == 22843, 'CPT_EX'] = 'Yes'\n",
    "data.loc[data['OTHERCPT9'] == 22844, 'CPT_EX'] = 'Yes'\n",
    "data.loc[data['OTHERCPT9'] == 63030, 'CPT_EX'] = 'Yes'\n",
    "data.loc[data['OTHERCPT9'] == 63042, 'CPT_EX'] = 'Yes'\n",
    "data.loc[data['OTHERCPT9'] == 63047, 'CPT_EX'] = 'Yes'\n",
    "\n",
    "data.loc[data['OTHERCPT10'] == 22612, 'CPT_EX'] = 'Yes'\n",
    "data.loc[data['OTHERCPT10'] == 22800, 'CPT_EX'] = 'Yes'\n",
    "data.loc[data['OTHERCPT10'] == 22802, 'CPT_EX'] = 'Yes'\n",
    "data.loc[data['OTHERCPT10'] == 22804, 'CPT_EX'] = 'Yes'\n",
    "data.loc[data['OTHERCPT10'] == 22840, 'CPT_EX'] = 'Yes'\n",
    "data.loc[data['OTHERCPT10'] == 22842, 'CPT_EX'] = 'Yes'\n",
    "data.loc[data['OTHERCPT10'] == 22843, 'CPT_EX'] = 'Yes'\n",
    "data.loc[data['OTHERCPT10'] == 22844, 'CPT_EX'] = 'Yes'\n",
    "data.loc[data['OTHERCPT10'] == 63030, 'CPT_EX'] = 'Yes'\n",
    "data.loc[data['OTHERCPT10'] == 63042, 'CPT_EX'] = 'Yes'\n",
    "data.loc[data['OTHERCPT10'] == 63047, 'CPT_EX'] = 'Yes'\n",
    "\n",
    "data.loc[data['CPT_EX'] != 'Yes', 'CPT_EX'] = 'No'\n",
    "\n",
    "data['CPT_EX'].value_counts(dropna=False)"
   ]
  },
  {
   "cell_type": "code",
   "execution_count": null,
   "id": "8KKrPQHK9Uz4",
   "metadata": {
    "colab": {
     "base_uri": "https://localhost:8080/"
    },
    "executionInfo": {
     "elapsed": 6,
     "status": "ok",
     "timestamp": 1672254312323,
     "user": {
      "displayName": "Mert Karabacak",
      "userId": "14308977132914475412"
     },
     "user_tz": 300
    },
    "id": "8KKrPQHK9Uz4",
    "outputId": "99d236a3-49f1-4252-c6dc-4334c5a7c441"
   },
   "outputs": [],
   "source": [
    "#Exclude patients with CPT codes that were assigned to be excluding.\n",
    "\n",
    "data = data[(data['CPT_EX'] == 'No')]\n",
    "\n",
    "data['CPT_EX'].value_counts(normalize=False, dropna=False)"
   ]
  },
  {
   "cell_type": "code",
   "execution_count": null,
   "id": "6c426cf1-c714-425d-b996-38a92517dcd3",
   "metadata": {
    "colab": {
     "base_uri": "https://localhost:8080/"
    },
    "executionInfo": {
     "elapsed": 4,
     "status": "ok",
     "timestamp": 1672254312323,
     "user": {
      "displayName": "Mert Karabacak",
      "userId": "14308977132914475412"
     },
     "user_tz": 300
    },
    "id": "6c426cf1-c714-425d-b996-38a92517dcd3",
    "outputId": "e5777a46-6f07-4576-f7f5-70075f9df4e8"
   },
   "outputs": [],
   "source": [
    "#Check data for elective surgeries.\n",
    "\n",
    "data['ELECTSURG'].value_counts(normalize=False, dropna=False)"
   ]
  },
  {
   "cell_type": "code",
   "execution_count": null,
   "id": "66c0ac20",
   "metadata": {
    "colab": {
     "base_uri": "https://localhost:8080/"
    },
    "executionInfo": {
     "elapsed": 122,
     "status": "ok",
     "timestamp": 1672254312443,
     "user": {
      "displayName": "Mert Karabacak",
      "userId": "14308977132914475412"
     },
     "user_tz": 300
    },
    "id": "66c0ac20",
    "outputId": "4ed1854e-7657-41fd-87cc-19b2da2352a7"
   },
   "outputs": [],
   "source": [
    "#Apply inclusion criteria for elective surgeries.\n",
    "\n",
    "data = data[(data['ELECTSURG'] == 'Yes')]\n",
    "\n",
    "data['ELECTSURG'].value_counts(normalize=False, dropna=False)"
   ]
  },
  {
   "cell_type": "code",
   "execution_count": null,
   "id": "88c16422",
   "metadata": {
    "colab": {
     "base_uri": "https://localhost:8080/"
    },
    "executionInfo": {
     "elapsed": 7,
     "status": "ok",
     "timestamp": 1672254312443,
     "user": {
      "displayName": "Mert Karabacak",
      "userId": "14308977132914475412"
     },
     "user_tz": 300
    },
    "id": "88c16422",
    "outputId": "c387b595-b65b-491c-e0e3-50f687297014"
   },
   "outputs": [],
   "source": [
    "#Check data for emergency surgery.\n",
    "\n",
    "data['EMERGNCY'].value_counts(normalize=False, dropna=False)"
   ]
  },
  {
   "cell_type": "code",
   "execution_count": null,
   "id": "bb4d527c",
   "metadata": {
    "colab": {
     "base_uri": "https://localhost:8080/"
    },
    "executionInfo": {
     "elapsed": 5,
     "status": "ok",
     "timestamp": 1672254312443,
     "user": {
      "displayName": "Mert Karabacak",
      "userId": "14308977132914475412"
     },
     "user_tz": 300
    },
    "id": "bb4d527c",
    "outputId": "0fb469a8-f064-48a5-a788-69102e05132d"
   },
   "outputs": [],
   "source": [
    "#Apply exclusion criteria for emergency surgery.\n",
    "\n",
    "data = data[(data['EMERGNCY'] == 'No')]\n",
    "\n",
    "data['EMERGNCY'].value_counts(normalize=False, dropna=False)"
   ]
  },
  {
   "cell_type": "code",
   "execution_count": null,
   "id": "81efedf4",
   "metadata": {
    "colab": {
     "base_uri": "https://localhost:8080/"
    },
    "executionInfo": {
     "elapsed": 5,
     "status": "ok",
     "timestamp": 1672254312444,
     "user": {
      "displayName": "Mert Karabacak",
      "userId": "14308977132914475412"
     },
     "user_tz": 300
    },
    "id": "81efedf4",
    "outputId": "fd29700e-286c-4e63-e672-735286e39898"
   },
   "outputs": [],
   "source": [
    "#Check data for anesthesia type.\n",
    "\n",
    "data['ANESTHES'].value_counts(normalize=False, dropna=False)"
   ]
  },
  {
   "cell_type": "code",
   "execution_count": null,
   "id": "056878f5",
   "metadata": {
    "colab": {
     "base_uri": "https://localhost:8080/"
    },
    "executionInfo": {
     "elapsed": 135,
     "status": "ok",
     "timestamp": 1672254312576,
     "user": {
      "displayName": "Mert Karabacak",
      "userId": "14308977132914475412"
     },
     "user_tz": 300
    },
    "id": "056878f5",
    "outputId": "0b4d6fad-fee2-4148-f5bc-e78ef258ef3e"
   },
   "outputs": [],
   "source": [
    "#Apply inclusion criteria for general anesthesia.\n",
    "\n",
    "data = data[(data['ANESTHES'] == 'General')]\n",
    "\n",
    "data['ANESTHES'].value_counts(normalize=False, dropna=False)"
   ]
  },
  {
   "cell_type": "code",
   "execution_count": null,
   "id": "120235be",
   "metadata": {
    "colab": {
     "base_uri": "https://localhost:8080/"
    },
    "executionInfo": {
     "elapsed": 7,
     "status": "ok",
     "timestamp": 1672254312576,
     "user": {
      "displayName": "Mert Karabacak",
      "userId": "14308977132914475412"
     },
     "user_tz": 300
    },
    "id": "120235be",
    "outputId": "e5845938-6118-4265-905a-2936d3f74beb"
   },
   "outputs": [],
   "source": [
    "#Check data for surgical specialties.\n",
    "\n",
    "data['SURGSPEC'].value_counts(normalize=False, dropna=False)"
   ]
  },
  {
   "cell_type": "code",
   "execution_count": null,
   "id": "7cf0695f",
   "metadata": {
    "colab": {
     "base_uri": "https://localhost:8080/"
    },
    "executionInfo": {
     "elapsed": 7,
     "status": "ok",
     "timestamp": 1672254312577,
     "user": {
      "displayName": "Mert Karabacak",
      "userId": "14308977132914475412"
     },
     "user_tz": 300
    },
    "id": "7cf0695f",
    "outputId": "790c6f4f-6b78-4a59-9a49-631460977f21"
   },
   "outputs": [],
   "source": [
    "#Apply inclusion criteria for surgical specialties.\n",
    "\n",
    "data = data[(data['SURGSPEC'] == 'Neurosurgery') | (data['SURGSPEC'] == 'Orthopedics')]\n",
    "\n",
    "data['SURGSPEC'].value_counts(normalize=False, dropna=False)"
   ]
  },
  {
   "cell_type": "code",
   "execution_count": null,
   "id": "a4d5b647",
   "metadata": {
    "colab": {
     "base_uri": "https://localhost:8080/"
    },
    "executionInfo": {
     "elapsed": 5,
     "status": "ok",
     "timestamp": 1672254312577,
     "user": {
      "displayName": "Mert Karabacak",
      "userId": "14308977132914475412"
     },
     "user_tz": 300
    },
    "id": "a4d5b647",
    "outputId": "12786a53-bce1-4c6c-bfcb-2fce60db07c4"
   },
   "outputs": [],
   "source": [
    "#Check data for wound class.\n",
    "\n",
    "data['WNDCLAS'].value_counts(normalize=False, dropna=False)"
   ]
  },
  {
   "cell_type": "code",
   "execution_count": null,
   "id": "b6d72d44",
   "metadata": {
    "colab": {
     "base_uri": "https://localhost:8080/"
    },
    "executionInfo": {
     "elapsed": 3,
     "status": "ok",
     "timestamp": 1672254312577,
     "user": {
      "displayName": "Mert Karabacak",
      "userId": "14308977132914475412"
     },
     "user_tz": 300
    },
    "id": "b6d72d44",
    "outputId": "d2209aef-c6ec-4dce-b978-b5914dfff69f"
   },
   "outputs": [],
   "source": [
    "#Apply exclusion criteria for wound class.\n",
    "\n",
    "data = data[(data['WNDCLAS'] == '1-Clean')]\n",
    "\n",
    "data['WNDCLAS'].value_counts(normalize=False, dropna=False)"
   ]
  },
  {
   "cell_type": "code",
   "execution_count": null,
   "id": "3e61433b",
   "metadata": {
    "colab": {
     "base_uri": "https://localhost:8080/"
    },
    "executionInfo": {
     "elapsed": 10,
     "status": "ok",
     "timestamp": 1672254312694,
     "user": {
      "displayName": "Mert Karabacak",
      "userId": "14308977132914475412"
     },
     "user_tz": 300
    },
    "id": "3e61433b",
    "outputId": "06859c83-2d71-4832-b845-7435c12a4084"
   },
   "outputs": [],
   "source": [
    "#Check data for preoperative sepsis.\n",
    "\n",
    "data['PRSEPIS'].value_counts(normalize=False, dropna=False)"
   ]
  },
  {
   "cell_type": "code",
   "execution_count": null,
   "id": "78f75891",
   "metadata": {
    "colab": {
     "base_uri": "https://localhost:8080/"
    },
    "executionInfo": {
     "elapsed": 8,
     "status": "ok",
     "timestamp": 1672254312694,
     "user": {
      "displayName": "Mert Karabacak",
      "userId": "14308977132914475412"
     },
     "user_tz": 300
    },
    "id": "78f75891",
    "outputId": "cfefe70c-565f-410a-c73c-ed788ff93e3c"
   },
   "outputs": [],
   "source": [
    "#Apply exclusion criteria for preoperative sepsis.\n",
    "\n",
    "data = data[(data['PRSEPIS'] == 'None')]\n",
    "\n",
    "data['PRSEPIS'].value_counts(normalize=False, dropna=False)"
   ]
  },
  {
   "cell_type": "code",
   "execution_count": null,
   "id": "d00834fd",
   "metadata": {
    "colab": {
     "base_uri": "https://localhost:8080/"
    },
    "executionInfo": {
     "elapsed": 6,
     "status": "ok",
     "timestamp": 1672254312694,
     "user": {
      "displayName": "Mert Karabacak",
      "userId": "14308977132914475412"
     },
     "user_tz": 300
    },
    "id": "d00834fd",
    "outputId": "5f299040-4cc9-4910-a831-ca3e9f7a9f80"
   },
   "outputs": [],
   "source": [
    "#Check data for ASA Class.\n",
    "\n",
    "data['ASACLAS'].value_counts(normalize=False, dropna=False)"
   ]
  },
  {
   "cell_type": "code",
   "execution_count": null,
   "id": "3e51b8d4",
   "metadata": {
    "colab": {
     "base_uri": "https://localhost:8080/"
    },
    "executionInfo": {
     "elapsed": 5,
     "status": "ok",
     "timestamp": 1672254312695,
     "user": {
      "displayName": "Mert Karabacak",
      "userId": "14308977132914475412"
     },
     "user_tz": 300
    },
    "id": "3e51b8d4",
    "outputId": "b5e4e2f5-0f85-43dc-d023-cc20021e2ef3"
   },
   "outputs": [],
   "source": [
    "#Apply exclusion criteria for ASA class.\n",
    "\n",
    "data = data[(data['ASACLAS'] != '4-Life Threat') & (data['ASACLAS'] != '5-Moribund') & (data['ASACLAS'] != 'None assigned')]\n",
    "\n",
    "data['ASACLAS'].value_counts(normalize=False, dropna=False)"
   ]
  },
  {
   "cell_type": "code",
   "execution_count": null,
   "id": "ab9d9c55",
   "metadata": {
    "colab": {
     "base_uri": "https://localhost:8080/"
    },
    "executionInfo": {
     "elapsed": 99,
     "status": "ok",
     "timestamp": 1672254312790,
     "user": {
      "displayName": "Mert Karabacak",
      "userId": "14308977132914475412"
     },
     "user_tz": 300
    },
    "id": "ab9d9c55",
    "outputId": "d3dcbcba-8b81-44b5-800f-6cae825156ce"
   },
   "outputs": [],
   "source": [
    "#Create BMI column.\n",
    "\n",
    "lbs_to_kg_ratio = 0.453592\n",
    "inch_to_meter_ratio = 0.0254\n",
    "\n",
    "data['HEIGHT'] *= inch_to_meter_ratio\n",
    "data['WEIGHT'] *= lbs_to_kg_ratio\n",
    "\n",
    "data['BMI'] = data['WEIGHT']/(data['HEIGHT']**2)\n",
    "print(min(data['BMI']))\n",
    "print(max(data['BMI']))"
   ]
  },
  {
   "cell_type": "code",
   "execution_count": null,
   "id": "fbf1c8ec",
   "metadata": {
    "colab": {
     "base_uri": "https://localhost:8080/"
    },
    "executionInfo": {
     "elapsed": 11,
     "status": "ok",
     "timestamp": 1672254312790,
     "user": {
      "displayName": "Mert Karabacak",
      "userId": "14308977132914475412"
     },
     "user_tz": 300
    },
    "id": "fbf1c8ec",
    "outputId": "2a79e53e-2eb2-4023-9879-9020facbee42"
   },
   "outputs": [],
   "source": [
    "#Check data for race.\n",
    "\n",
    "data['RACE_NEW'].value_counts(normalize=False, dropna=False)"
   ]
  },
  {
   "cell_type": "code",
   "execution_count": null,
   "id": "58a7a358",
   "metadata": {
    "colab": {
     "base_uri": "https://localhost:8080/"
    },
    "executionInfo": {
     "elapsed": 11,
     "status": "ok",
     "timestamp": 1672254312791,
     "user": {
      "displayName": "Mert Karabacak",
      "userId": "14308977132914475412"
     },
     "user_tz": 300
    },
    "id": "58a7a358",
    "outputId": "b6145b6e-59a5-419f-8f6f-379ac12ec5e5"
   },
   "outputs": [],
   "source": [
    "#Check data for ethnicity.\n",
    "\n",
    "data['ETHNICITY_HISPANIC'].value_counts(normalize=False, dropna=False)"
   ]
  },
  {
   "cell_type": "code",
   "execution_count": null,
   "id": "edfeff13",
   "metadata": {
    "colab": {
     "base_uri": "https://localhost:8080/"
    },
    "executionInfo": {
     "elapsed": 9,
     "status": "ok",
     "timestamp": 1672254312791,
     "user": {
      "displayName": "Mert Karabacak",
      "userId": "14308977132914475412"
     },
     "user_tz": 300
    },
    "id": "edfeff13",
    "outputId": "eb8fd0de-b921-4877-ab12-d8ea829f754e"
   },
   "outputs": [],
   "source": [
    "#Simplify race and ethnicity columns.\n",
    "\n",
    "data.loc[data['RACE_NEW'] == 'White', 'RACE'] = 'White'\n",
    "data.loc[data['RACE_NEW'] == 'Black or African American', 'RACE'] = 'Black or African American'\n",
    "data.loc[data['RACE_NEW'] == 'Asian', 'RACE'] = 'Asian'\n",
    "data.loc[data['RACE_NEW'] == 'American Indian or Alaska Native', 'RACE'] = 'Other'\n",
    "data.loc[data['RACE_NEW'] == 'Native Hawaiian or Other Pacific Islander', 'RACE'] = 'Other'\n",
    "data.loc[data['RACE_NEW'] == 'Native Hawaiian or Pacific Islander', 'RACE'] = 'Other'\n",
    "data.loc[data['RACE_NEW'] == 'Some Other Race', 'RACE'] = 'Other'\n",
    "\n",
    "data.loc[data['ETHNICITY_HISPANIC'] == 'Yes', 'RACE'] = 'Hispanic'\n",
    "\n",
    "data['RACE'].value_counts(normalize=False, dropna=False)"
   ]
  },
  {
   "cell_type": "code",
   "execution_count": null,
   "id": "058b3c3d",
   "metadata": {
    "colab": {
     "base_uri": "https://localhost:8080/"
    },
    "executionInfo": {
     "elapsed": 7,
     "status": "ok",
     "timestamp": 1672254312791,
     "user": {
      "displayName": "Mert Karabacak",
      "userId": "14308977132914475412"
     },
     "user_tz": 300
    },
    "id": "058b3c3d",
    "outputId": "3ee44460-34a4-4d20-b0fe-0e444a73135e"
   },
   "outputs": [],
   "source": [
    "#Check data for transfer status.\n",
    "\n",
    "data['TRANST'].value_counts(normalize=False, dropna=False)"
   ]
  },
  {
   "cell_type": "code",
   "execution_count": null,
   "id": "c3af9dc4",
   "metadata": {
    "colab": {
     "base_uri": "https://localhost:8080/"
    },
    "executionInfo": {
     "elapsed": 5,
     "status": "ok",
     "timestamp": 1672254312791,
     "user": {
      "displayName": "Mert Karabacak",
      "userId": "14308977132914475412"
     },
     "user_tz": 300
    },
    "id": "c3af9dc4",
    "outputId": "c04befd1-e8da-4fa1-f6aa-d10db5c00d51"
   },
   "outputs": [],
   "source": [
    "#Simplify transfer status column.\n",
    "\n",
    "data.loc[data['TRANST'] == 'Not transferred (admitted from home)', 'TRANST'] = 'Not transferred'\n",
    "data.loc[data['TRANST'] == 'Nursing home - Chronic care - Intermediate care', 'TRANST'] = 'Transferred'\n",
    "data.loc[data['TRANST'] == 'From acute care hospital inpatient', 'TRANST'] = 'Transferred'\n",
    "data.loc[data['TRANST'] == 'Outside emergency department', 'TRANST'] = 'Transferred'\n",
    "data.loc[data['TRANST'] == 'Transfer from other', 'TRANST'] = 'Transferred'\n",
    "\n",
    "data['TRANST'].value_counts(normalize=False, dropna=False)"
   ]
  },
  {
   "cell_type": "code",
   "execution_count": null,
   "id": "ba88fac8",
   "metadata": {
    "colab": {
     "base_uri": "https://localhost:8080/"
    },
    "executionInfo": {
     "elapsed": 104,
     "status": "ok",
     "timestamp": 1672254312893,
     "user": {
      "displayName": "Mert Karabacak",
      "userId": "14308977132914475412"
     },
     "user_tz": 300
    },
    "id": "ba88fac8",
    "outputId": "e2b72ba7-0a46-415a-d3dd-351d36aea28d"
   },
   "outputs": [],
   "source": [
    "#Check data for dyspnea.\n",
    "\n",
    "data['DYSPNEA'].value_counts(normalize=False, dropna=False)"
   ]
  },
  {
   "cell_type": "code",
   "execution_count": null,
   "id": "5557e3e3",
   "metadata": {
    "colab": {
     "base_uri": "https://localhost:8080/"
    },
    "executionInfo": {
     "elapsed": 7,
     "status": "ok",
     "timestamp": 1672254312893,
     "user": {
      "displayName": "Mert Karabacak",
      "userId": "14308977132914475412"
     },
     "user_tz": 300
    },
    "id": "5557e3e3",
    "outputId": "8ed6f4cd-9ca8-401d-ed14-894ad2307979"
   },
   "outputs": [],
   "source": [
    "#Simplify dyspnea column.\n",
    "\n",
    "data.loc[data['DYSPNEA'] == 'No', 'DYSPNEA'] = 'No'\n",
    "data.loc[data['DYSPNEA'] == 'MODERATE EXERTION', 'DYSPNEA'] = 'Yes'\n",
    "data.loc[data['DYSPNEA'] == 'AT REST', 'DYSPNEA'] = 'Yes'\n",
    "\n",
    "data['DYSPNEA'].value_counts(normalize=False, dropna=False)"
   ]
  },
  {
   "cell_type": "code",
   "execution_count": null,
   "id": "238ad170",
   "metadata": {
    "colab": {
     "base_uri": "https://localhost:8080/"
    },
    "executionInfo": {
     "elapsed": 4,
     "status": "ok",
     "timestamp": 1672254312893,
     "user": {
      "displayName": "Mert Karabacak",
      "userId": "14308977132914475412"
     },
     "user_tz": 300
    },
    "id": "238ad170",
    "outputId": "0b78717c-d0f1-4ecf-9fb3-65d21757a2ec"
   },
   "outputs": [],
   "source": [
    "#Check data for diabetes status.\n",
    "\n",
    "data['DIABETES'].value_counts(normalize=False, dropna=False)"
   ]
  },
  {
   "cell_type": "code",
   "execution_count": null,
   "id": "d0378434",
   "metadata": {
    "colab": {
     "base_uri": "https://localhost:8080/"
    },
    "executionInfo": {
     "elapsed": 3,
     "status": "ok",
     "timestamp": 1672254312893,
     "user": {
      "displayName": "Mert Karabacak",
      "userId": "14308977132914475412"
     },
     "user_tz": 300
    },
    "id": "d0378434",
    "outputId": "e2a62d60-5acd-45cc-b9f1-d9503aab27a4"
   },
   "outputs": [],
   "source": [
    "#Simplify diabetes column.\n",
    "\n",
    "data.loc[data['DIABETES'] == 'NO', 'DIABETES'] = 'No'\n",
    "data.loc[data['DIABETES'] == 'NON-INSULIN', 'DIABETES'] = 'Yes'\n",
    "data.loc[data['DIABETES'] == 'INSULIN', 'DIABETES'] = 'Yes'\n",
    "\n",
    "data['DIABETES'].value_counts(normalize=False, dropna=False)"
   ]
  },
  {
   "cell_type": "code",
   "execution_count": null,
   "id": "2aca45cc",
   "metadata": {
    "colab": {
     "base_uri": "https://localhost:8080/"
    },
    "executionInfo": {
     "elapsed": 174,
     "status": "ok",
     "timestamp": 1672254313192,
     "user": {
      "displayName": "Mert Karabacak",
      "userId": "14308977132914475412"
     },
     "user_tz": 300
    },
    "id": "2aca45cc",
    "outputId": "d9a85fc3-8196-40c5-d01a-cbdffdf03ffb"
   },
   "outputs": [],
   "source": [
    "#Cast ASA class as ordered categorical.\n",
    "\n",
    "cat_type1 = CategoricalDtype(categories=['1-No Disturb','2-Mild Disturb','3-Severe Disturb'], ordered=True)\n",
    "data['ASACLAS'].astype(cat_type1)"
   ]
  },
  {
   "cell_type": "code",
   "execution_count": null,
   "id": "19fb0646",
   "metadata": {
    "colab": {
     "base_uri": "https://localhost:8080/"
    },
    "executionInfo": {
     "elapsed": 257,
     "status": "ok",
     "timestamp": 1672254313447,
     "user": {
      "displayName": "Mert Karabacak",
      "userId": "14308977132914475412"
     },
     "user_tz": 300
    },
    "id": "19fb0646",
    "outputId": "b92b7b41-09da-4873-e28a-13ca936dda17"
   },
   "outputs": [],
   "source": [
    "#Cast functional status as ordered categorical.\n",
    "\n",
    "cat_type2 = CategoricalDtype(categories=['Unknown','Independent','Partiallly Dependent', 'Totally Dependent'], ordered=True)\n",
    "data['FNSTATUS2'].astype(cat_type2)"
   ]
  },
  {
   "cell_type": "code",
   "execution_count": null,
   "id": "9fb66caf",
   "metadata": {
    "executionInfo": {
     "elapsed": 94,
     "status": "ok",
     "timestamp": 1672254313447,
     "user": {
      "displayName": "Mert Karabacak",
      "userId": "14308977132914475412"
     },
     "user_tz": 300
    },
    "id": "9fb66caf"
   },
   "outputs": [],
   "source": [
    "#Convert 90+ to 91 and AGE column to integer.\n",
    "\n",
    "data.loc[data['AGE'] == '90+', 'AGE'] = 91\n",
    "data['AGE'] = pd.to_numeric(data['AGE'], downcast='integer')"
   ]
  },
  {
   "cell_type": "code",
   "execution_count": null,
   "id": "ace8b0df",
   "metadata": {
    "colab": {
     "base_uri": "https://localhost:8080/"
    },
    "executionInfo": {
     "elapsed": 94,
     "status": "ok",
     "timestamp": 1672254313447,
     "user": {
      "displayName": "Mert Karabacak",
      "userId": "14308977132914475412"
     },
     "user_tz": 300
    },
    "id": "ace8b0df",
    "outputId": "eaefd208-b1d8-4f95-aaea-2b44926cb015"
   },
   "outputs": [],
   "source": [
    "#Show patients for each CPT code.\n",
    "\n",
    "data['CPT'].value_counts()"
   ]
  },
  {
   "cell_type": "code",
   "execution_count": null,
   "id": "LULJqk2bwx-h",
   "metadata": {
    "colab": {
     "base_uri": "https://localhost:8080/"
    },
    "executionInfo": {
     "elapsed": 5,
     "status": "ok",
     "timestamp": 1672254313447,
     "user": {
      "displayName": "Mert Karabacak",
      "userId": "14308977132914475412"
     },
     "user_tz": 300
    },
    "id": "LULJqk2bwx-h",
    "outputId": "df32f227-c25f-4baf-d5c8-0644190560ac"
   },
   "outputs": [],
   "source": [
    "#Classify operations into single- vs. multiple-levels and create a column named 'LEVELS' for it.\n",
    "\n",
    "data.loc[data['CPT'] == 22585, 'LEVELS'] = 'Multiple'\n",
    "data.loc[data['CONCPT1'] == 22585, 'LEVELS'] = 'Multiple'\n",
    "data.loc[data['CONCPT2'] == 22585, 'LEVELS'] = 'Multiple'\n",
    "data.loc[data['CONCPT3'] == 22585, 'LEVELS'] = 'Multiple'\n",
    "data.loc[data['CONCPT4'] == 22585, 'LEVELS'] = 'Multiple'\n",
    "data.loc[data['CONCPT5'] == 22585, 'LEVELS'] = 'Multiple'\n",
    "data.loc[data['CONCPT6'] == 22585, 'LEVELS'] = 'Multiple'\n",
    "data.loc[data['CONCPT7'] == 22585, 'LEVELS'] = 'Multiple'\n",
    "data.loc[data['CONCPT9'] == 22585, 'LEVELS'] = 'Multiple'\n",
    "data.loc[data['CONCPT10'] == 22585, 'LEVELS'] = 'Multiple'\n",
    "data.loc[data['OTHERCPT1'] == 22585, 'LEVELS'] = 'Multiple'\n",
    "data.loc[data['OTHERCPT2'] == 22585, 'LEVELS'] = 'Multiple'\n",
    "data.loc[data['OTHERCPT3'] == 22585, 'LEVELS'] = 'Multiple'\n",
    "data.loc[data['OTHERCPT4'] == 22585, 'LEVELS'] = 'Multiple'\n",
    "data.loc[data['OTHERCPT5'] == 22585, 'LEVELS'] = 'Multiple'\n",
    "data.loc[data['OTHERCPT6'] == 22585, 'LEVELS'] = 'Multiple'\n",
    "data.loc[data['OTHERCPT7'] == 22585, 'LEVELS'] = 'Multiple'\n",
    "data.loc[data['OTHERCPT9'] == 22585, 'LEVELS'] = 'Multiple'\n",
    "data.loc[data['OTHERCPT10'] == 22585, 'LEVELS'] = 'Multiple'\n",
    "\n",
    "data.loc[data['LEVELS'] != 'Multiple', 'LEVELS'] = 'Single'\n",
    "\n",
    "data['LEVELS'].value_counts(dropna=False)"
   ]
  },
  {
   "cell_type": "code",
   "execution_count": null,
   "id": "89c3263c",
   "metadata": {
    "colab": {
     "base_uri": "https://localhost:8080/"
    },
    "executionInfo": {
     "elapsed": 3,
     "status": "ok",
     "timestamp": 1672254313447,
     "user": {
      "displayName": "Mert Karabacak",
      "userId": "14308977132914475412"
     },
     "user_tz": 300
    },
    "id": "89c3263c",
    "outputId": "cbf1d329-b1eb-44d1-b442-17dc2e300dba"
   },
   "outputs": [],
   "source": [
    "#See LOS per patient.\n",
    "\n",
    "data['TOTHLOS'].value_counts()"
   ]
  },
  {
   "cell_type": "code",
   "execution_count": null,
   "id": "2zHKamnxDlcr",
   "metadata": {
    "executionInfo": {
     "elapsed": 99,
     "status": "ok",
     "timestamp": 1672254313544,
     "user": {
      "displayName": "Mert Karabacak",
      "userId": "14308977132914475412"
     },
     "user_tz": 300
    },
    "id": "2zHKamnxDlcr"
   },
   "outputs": [],
   "source": [
    "#Drop patients with unknown LOS.\n",
    "\n",
    "data = data[data['TOTHLOS'].notna()]"
   ]
  },
  {
   "cell_type": "code",
   "execution_count": null,
   "id": "YOVkj1Ozj_pD",
   "metadata": {
    "colab": {
     "base_uri": "https://localhost:8080/"
    },
    "executionInfo": {
     "elapsed": 18,
     "status": "ok",
     "timestamp": 1672254313545,
     "user": {
      "displayName": "Mert Karabacak",
      "userId": "14308977132914475412"
     },
     "user_tz": 300
    },
    "id": "YOVkj1Ozj_pD",
    "outputId": "a0a67d9a-8381-42a0-8830-51d12dfe67f9"
   },
   "outputs": [],
   "source": [
    "#Show LOS after dropping patients with unknown LOS.\n",
    "\n",
    "data['TOTHLOS'].value_counts(dropna=False)"
   ]
  },
  {
   "cell_type": "code",
   "execution_count": null,
   "id": "fdfccc33",
   "metadata": {
    "colab": {
     "base_uri": "https://localhost:8080/"
    },
    "executionInfo": {
     "elapsed": 17,
     "status": "ok",
     "timestamp": 1672254313545,
     "user": {
      "displayName": "Mert Karabacak",
      "userId": "14308977132914475412"
     },
     "user_tz": 300
    },
    "id": "fdfccc33",
    "outputId": "3b0024cf-51ed-4301-bff5-3c783fa732ac"
   },
   "outputs": [],
   "source": [
    "#See 75th percentile of LOS.\n",
    "data.TOTHLOS.quantile(0.75)"
   ]
  },
  {
   "cell_type": "code",
   "execution_count": null,
   "id": "25d22d50",
   "metadata": {
    "colab": {
     "base_uri": "https://localhost:8080/"
    },
    "executionInfo": {
     "elapsed": 15,
     "status": "ok",
     "timestamp": 1672254313545,
     "user": {
      "displayName": "Mert Karabacak",
      "userId": "14308977132914475412"
     },
     "user_tz": 300
    },
    "id": "25d22d50",
    "outputId": "46c8f2f2-9b97-42e2-94ca-deb2eb2b1ef4"
   },
   "outputs": [],
   "source": [
    "#Convert total length of stay into categorical data in a column named 'LOS'.\n",
    "\n",
    "data.loc[data['TOTHLOS'] <= data.TOTHLOS.quantile(0.75), 'LOS'] = 'No'\n",
    "data.loc[data['TOTHLOS'] > data.TOTHLOS.quantile(0.75), 'LOS'] = 'Yes'"
   ]
  },
  {
   "cell_type": "code",
   "execution_count": null,
   "id": "00cadcb7",
   "metadata": {
    "colab": {
     "base_uri": "https://localhost:8080/"
    },
    "executionInfo": {
     "elapsed": 13,
     "status": "ok",
     "timestamp": 1672254313545,
     "user": {
      "displayName": "Mert Karabacak",
      "userId": "14308977132914475412"
     },
     "user_tz": 300
    },
    "id": "00cadcb7",
    "outputId": "5a4644d6-18b5-4d7f-f598-6a46e314b8fd"
   },
   "outputs": [],
   "source": [
    "#Show prolonged LOS as categorical.\n",
    "\n",
    "data['LOS'].value_counts(dropna=False)"
   ]
  },
  {
   "cell_type": "code",
   "execution_count": null,
   "id": "ca132d46",
   "metadata": {
    "colab": {
     "base_uri": "https://localhost:8080/"
    },
    "executionInfo": {
     "elapsed": 11,
     "status": "ok",
     "timestamp": 1672254313545,
     "user": {
      "displayName": "Mert Karabacak",
      "userId": "14308977132914475412"
     },
     "user_tz": 300
    },
    "id": "ca132d46",
    "outputId": "1531c861-6ea3-4a1e-b423-99e89e188d46"
   },
   "outputs": [],
   "source": [
    "#Define major complications.\n",
    "\n",
    "data['MAJRCOMP'] = data['NWNDINFD'] + data['NORGSPCSSI'] + data['NDEHIS'] + data['NREINTUB'] + data['NPULEMBOL'] + data['NFAILWEAN'] + data['NRENAINSF'] + data['NOPRENAFL'] + data['NCNSCVA'] + data['NCDARREST'] + data['NCDMI'] + data['NOTHBLEED'] + data['NOTHDVT'] + data['NOTHSYSEP'] + data['NOTHSESHOCK']"
   ]
  },
  {
   "cell_type": "code",
   "execution_count": null,
   "id": "a273cdf1",
   "metadata": {
    "colab": {
     "base_uri": "https://localhost:8080/"
    },
    "executionInfo": {
     "elapsed": 10,
     "status": "ok",
     "timestamp": 1672254313546,
     "user": {
      "displayName": "Mert Karabacak",
      "userId": "14308977132914475412"
     },
     "user_tz": 300
    },
    "id": "a273cdf1",
    "outputId": "cc2bb668-370e-4d0b-a433-5c41fed6aa6e"
   },
   "outputs": [],
   "source": [
    "#Show number of major complications per patient.\n",
    "\n",
    "data['MAJRCOMP'].value_counts()"
   ]
  },
  {
   "cell_type": "code",
   "execution_count": null,
   "id": "fede78c8",
   "metadata": {
    "executionInfo": {
     "elapsed": 8,
     "status": "ok",
     "timestamp": 1672254313546,
     "user": {
      "displayName": "Mert Karabacak",
      "userId": "14308977132914475412"
     },
     "user_tz": 300
    },
    "id": "fede78c8"
   },
   "outputs": [],
   "source": [
    "#Convert major complications into categorical data in a column named 'COMP'.\n",
    "\n",
    "data.loc[data['MAJRCOMP'] == 0, 'COMP'] = 'No'\n",
    "data.loc[data['MAJRCOMP'] >= 1, 'COMP'] = 'Yes'"
   ]
  },
  {
   "cell_type": "code",
   "execution_count": null,
   "id": "aa5c95a3",
   "metadata": {
    "colab": {
     "base_uri": "https://localhost:8080/"
    },
    "executionInfo": {
     "elapsed": 8,
     "status": "ok",
     "timestamp": 1672254313546,
     "user": {
      "displayName": "Mert Karabacak",
      "userId": "14308977132914475412"
     },
     "user_tz": 300
    },
    "id": "aa5c95a3",
    "outputId": "64c1e8ca-7957-4a14-e3c2-1ec557d08c3d"
   },
   "outputs": [],
   "source": [
    "#Show major complications as categorical.\n",
    "\n",
    "data['COMP'].value_counts()"
   ]
  },
  {
   "cell_type": "code",
   "execution_count": null,
   "id": "9432HuAcjwfO",
   "metadata": {
    "executionInfo": {
     "elapsed": 5,
     "status": "ok",
     "timestamp": 1672254313546,
     "user": {
      "displayName": "Mert Karabacak",
      "userId": "14308977132914475412"
     },
     "user_tz": 300
    },
    "id": "9432HuAcjwfO"
   },
   "outputs": [],
   "source": [
    "#Drop patients with unknown major complications status.\n",
    "\n",
    "data = data[data['COMP'].notna()]"
   ]
  },
  {
   "cell_type": "code",
   "execution_count": null,
   "id": "n9nxQIeaj3pH",
   "metadata": {
    "colab": {
     "base_uri": "https://localhost:8080/"
    },
    "executionInfo": {
     "elapsed": 118,
     "status": "ok",
     "timestamp": 1672254313660,
     "user": {
      "displayName": "Mert Karabacak",
      "userId": "14308977132914475412"
     },
     "user_tz": 300
    },
    "id": "n9nxQIeaj3pH",
    "outputId": "2be2a18f-6141-4d9a-9dcd-07c5ce3c8d85"
   },
   "outputs": [],
   "source": [
    "#Show major complication status after dropping patients with unknown major complication status.\n",
    "\n",
    "data['COMP'].value_counts(dropna=False)"
   ]
  },
  {
   "cell_type": "code",
   "execution_count": null,
   "id": "afff01b4",
   "metadata": {
    "colab": {
     "base_uri": "https://localhost:8080/"
    },
    "executionInfo": {
     "elapsed": 7,
     "status": "ok",
     "timestamp": 1672254313660,
     "user": {
      "displayName": "Mert Karabacak",
      "userId": "14308977132914475412"
     },
     "user_tz": 300
    },
    "id": "afff01b4",
    "outputId": "956c902f-94d8-484a-a06b-f3592224ca2b"
   },
   "outputs": [],
   "source": [
    "#Show readmission status.\n",
    "\n",
    "data['READMISSION1'].value_counts(dropna=False)"
   ]
  },
  {
   "cell_type": "code",
   "execution_count": null,
   "id": "678588ba",
   "metadata": {
    "executionInfo": {
     "elapsed": 5,
     "status": "ok",
     "timestamp": 1672254313660,
     "user": {
      "displayName": "Mert Karabacak",
      "userId": "14308977132914475412"
     },
     "user_tz": 300
    },
    "id": "678588ba"
   },
   "outputs": [],
   "source": [
    "#Drop patients with unknown readmission status.\n",
    "\n",
    "data = data[data['READMISSION1'].notna()]"
   ]
  },
  {
   "cell_type": "code",
   "execution_count": null,
   "id": "40d739c5",
   "metadata": {
    "colab": {
     "base_uri": "https://localhost:8080/"
    },
    "executionInfo": {
     "elapsed": 5,
     "status": "ok",
     "timestamp": 1672254313661,
     "user": {
      "displayName": "Mert Karabacak",
      "userId": "14308977132914475412"
     },
     "user_tz": 300
    },
    "id": "40d739c5",
    "outputId": "e94cc4eb-46d6-40db-d302-fa3b13e87b2a"
   },
   "outputs": [],
   "source": [
    "#Show readmission status after dropping patients with unknown readmission status.\n",
    "\n",
    "data['READMISSION1'].value_counts(dropna=False)"
   ]
  },
  {
   "cell_type": "code",
   "execution_count": null,
   "id": "b8c302ed",
   "metadata": {
    "colab": {
     "base_uri": "https://localhost:8080/"
    },
    "executionInfo": {
     "elapsed": 4,
     "status": "ok",
     "timestamp": 1672254313661,
     "user": {
      "displayName": "Mert Karabacak",
      "userId": "14308977132914475412"
     },
     "user_tz": 300
    },
    "id": "b8c302ed",
    "outputId": "30104348-3388-446d-b4e4-f91612205a91"
   },
   "outputs": [],
   "source": [
    "#Show discharge status.\n",
    "\n",
    "data['DISCHDEST'].value_counts(dropna=False)"
   ]
  },
  {
   "cell_type": "code",
   "execution_count": null,
   "id": "4e3ce5cb",
   "metadata": {
    "executionInfo": {
     "elapsed": 101,
     "status": "ok",
     "timestamp": 1672254313759,
     "user": {
      "displayName": "Mert Karabacak",
      "userId": "14308977132914475412"
     },
     "user_tz": 300
    },
    "id": "4e3ce5cb"
   },
   "outputs": [],
   "source": [
    "#Convert discharge destination into binary data (home vs. non-home discharge) in a column named 'DISCHARGE'.\n",
    "\n",
    "data.loc[data['DISCHDEST'] == 'Home', 'DISCHARGE'] = 'No'\n",
    "data.loc[data['DISCHDEST'] == 'Facility Which was Home', 'DISCHARGE'] = 'No'\n",
    "data.loc[data['DISCHDEST'] == 'Skilled Care, Not Home', 'DISCHARGE'] = 'Yes'\n",
    "data.loc[data['DISCHDEST'] == 'Rehab', 'DISCHARGE'] = 'Yes'\n",
    "data.loc[data['DISCHDEST'] == 'Separate Acute Care', 'DISCHARGE'] = 'Yes'\n",
    "data.loc[data['DISCHDEST'] == 'Multi-level Senior Community', 'DISCHARGE'] = 'Yes'"
   ]
  },
  {
   "cell_type": "code",
   "execution_count": null,
   "id": "8785261c",
   "metadata": {
    "colab": {
     "base_uri": "https://localhost:8080/"
    },
    "executionInfo": {
     "elapsed": 7,
     "status": "ok",
     "timestamp": 1672254313759,
     "user": {
      "displayName": "Mert Karabacak",
      "userId": "14308977132914475412"
     },
     "user_tz": 300
    },
    "id": "8785261c",
    "outputId": "ff76e2ab-d5f2-4dd0-c91d-9912c8448d2d"
   },
   "outputs": [],
   "source": [
    "#Show discharge destination status after converting it to binary data.\n",
    "\n",
    "data['DISCHARGE'].value_counts(dropna=False)"
   ]
  },
  {
   "cell_type": "code",
   "execution_count": null,
   "id": "191e7b5a",
   "metadata": {
    "executionInfo": {
     "elapsed": 6,
     "status": "ok",
     "timestamp": 1672254313760,
     "user": {
      "displayName": "Mert Karabacak",
      "userId": "14308977132914475412"
     },
     "user_tz": 300
    },
    "id": "191e7b5a"
   },
   "outputs": [],
   "source": [
    "#Drop patients with unknown discharge status.\n",
    "\n",
    "data = data[data['DISCHARGE'].notna()]"
   ]
  },
  {
   "cell_type": "code",
   "execution_count": null,
   "id": "c9a5c184",
   "metadata": {
    "colab": {
     "base_uri": "https://localhost:8080/"
    },
    "executionInfo": {
     "elapsed": 6,
     "status": "ok",
     "timestamp": 1672254313760,
     "user": {
      "displayName": "Mert Karabacak",
      "userId": "14308977132914475412"
     },
     "user_tz": 300
    },
    "id": "c9a5c184",
    "outputId": "3865b1d4-b2cc-472d-f871-2d8b4f29e475"
   },
   "outputs": [],
   "source": [
    "#Show discharge status after dropping patients with unknown discharge status.\n",
    "\n",
    "data['DISCHARGE'].value_counts(dropna=False)"
   ]
  },
  {
   "cell_type": "code",
   "execution_count": null,
   "id": "aa861235",
   "metadata": {
    "colab": {
     "base_uri": "https://localhost:8080/"
    },
    "executionInfo": {
     "elapsed": 4,
     "status": "ok",
     "timestamp": 1672254313760,
     "user": {
      "displayName": "Mert Karabacak",
      "userId": "14308977132914475412"
     },
     "user_tz": 300
    },
    "id": "aa861235",
    "outputId": "ff984127-c867-4fa3-8cb1-f9fe43cead94"
   },
   "outputs": [],
   "source": [
    "#Check data.\n",
    "\n",
    "data.shape"
   ]
  },
  {
   "cell_type": "code",
   "execution_count": null,
   "id": "55ead6a8",
   "metadata": {
    "colab": {
     "base_uri": "https://localhost:8080/"
    },
    "executionInfo": {
     "elapsed": 7,
     "status": "ok",
     "timestamp": 1672254313842,
     "user": {
      "displayName": "Mert Karabacak",
      "userId": "14308977132914475412"
     },
     "user_tz": 300
    },
    "id": "55ead6a8",
    "outputId": "e10e6f52-6d6d-402f-acb1-c62af2fc6db3"
   },
   "outputs": [],
   "source": [
    "#See all columns.\n",
    "\n",
    "print(list(data.columns))"
   ]
  },
  {
   "cell_type": "code",
   "execution_count": null,
   "id": "a7b333b1",
   "metadata": {
    "colab": {
     "base_uri": "https://localhost:8080/"
    },
    "executionInfo": {
     "elapsed": 5,
     "status": "ok",
     "timestamp": 1672254313842,
     "user": {
      "displayName": "Mert Karabacak",
      "userId": "14308977132914475412"
     },
     "user_tz": 300
    },
    "id": "a7b333b1",
    "outputId": "36b2b673-1590-4732-a1ca-ebff213ac75f"
   },
   "outputs": [],
   "source": [
    "#Drop unwanted columns.\n",
    "\n",
    "drop = ['RACE_NEW', 'ETHNICITY_HISPANIC', 'CPT',  'DISCHDEST', 'ANESTHES', 'ELECTSURG', 'PRSEPIS', 'OTHERCPT1', 'OTHERCPT2', 'OTHERCPT3', 'OTHERCPT4', 'OTHERCPT5', 'OTHERCPT6', 'OTHERCPT7', 'OTHERCPT8', 'OTHERCPT9', 'OTHERCPT10', 'CONCPT1', 'CONCPT2', 'CONCPT3', 'CONCPT4', 'CONCPT5', 'CONCPT6', 'CONCPT7', 'CONCPT8', 'CONCPT9', 'CONCPT10', 'EMERGNCY', 'WNDCLAS', 'OPTIME', 'TOTHLOS', 'HTOODAY', 'NSUPINFEC', 'NWNDINFD', 'NORGSPCSSI', 'NDEHIS', 'NOUPNEUMO', 'NREINTUB', 'NPULEMBOL', 'NFAILWEAN', 'NRENAINSF', 'NOPRENAFL', 'NURNINFEC', 'NCNSCVA', 'NCDARREST', 'NCDMI', 'NOTHBLEED', 'NOTHDVT', 'NOTHSYSEP', 'NOTHSESHOCK', 'PODIAG', 'PODIAG10', 'STILLINHOSP', 'CPT_EX', 'MAJRCOMP']\n",
    "data.drop(drop, axis=1, inplace=True)"
   ]
  },
  {
   "cell_type": "code",
   "execution_count": null,
   "id": "5f8c4150",
   "metadata": {
    "executionInfo": {
     "elapsed": 301,
     "status": "ok",
     "timestamp": 1672254314142,
     "user": {
      "displayName": "Mert Karabacak",
      "userId": "14308977132914475412"
     },
     "user_tz": 300
    },
    "id": "5f8c4150"
   },
   "outputs": [],
   "source": [
    "#Save data.\n",
    "\n",
    "data.to_csv('/content/drive/MyDrive/NSQIP-ALIF/alif_clean.csv')"
   ]
  },
  {
   "cell_type": "code",
   "execution_count": null,
   "id": "11efb52b",
   "metadata": {
    "colab": {
     "base_uri": "https://localhost:8080/"
    },
    "executionInfo": {
     "elapsed": 8,
     "status": "ok",
     "timestamp": 1672254314143,
     "user": {
      "displayName": "Mert Karabacak",
      "userId": "14308977132914475412"
     },
     "user_tz": 300
    },
    "id": "11efb52b",
    "outputId": "18c90e04-408e-4e1a-dab3-517cc9f78ee4"
   },
   "outputs": [],
   "source": [
    "#See categorical and continuous variables.\n",
    "\n",
    "print('Numerical columns: {}'.format(list(data.select_dtypes('number').columns)))\n",
    "print()\n",
    "print('Categorical columns: {}'.format(list(data.select_dtypes('object').columns)))"
   ]
  },
  {
   "cell_type": "code",
   "execution_count": null,
   "id": "282afb2e",
   "metadata": {
    "executionInfo": {
     "elapsed": 6,
     "status": "ok",
     "timestamp": 1672254314143,
     "user": {
      "displayName": "Mert Karabacak",
      "userId": "14308977132914475412"
     },
     "user_tz": 300
    },
    "id": "282afb2e"
   },
   "outputs": [],
   "source": [
    "#Define numerical and categorical columns.\n",
    "\n",
    "num_cols = ['AGE', 'HEIGHT', 'WEIGHT', 'PRSODM', 'PRBUN', 'PRCREAT', 'PRALBUM', 'PRBILI', 'PRSGOT', 'PRALKPH', 'PRWBC', 'PRHCT', 'PRPLATE', 'PRPTT', 'PRINR', 'PRPT', 'BMI']\n",
    "\n",
    "cat_cols = ['SEX', 'INOUT', 'TRANST', 'SURGSPEC', 'DIABETES', 'SMOKE', 'DYSPNEA', 'FNSTATUS2', 'VENTILAT', 'HXCOPD', 'ASCITES', 'HXCHF', 'HYPERMED', 'RENAFAIL', 'DIALYSIS', 'DISCANCR', 'WNDINF', 'STEROID', 'WTLOSS', 'BLEEDDIS', 'TRANSFUS', 'ASACLAS', 'READMISSION1', 'RACE', 'LEVELS', 'COMP', 'LOS', 'DISCHARGE']"
   ]
  },
  {
   "cell_type": "code",
   "execution_count": null,
   "id": "f7a6bff0",
   "metadata": {
    "colab": {
     "base_uri": "https://localhost:8080/"
    },
    "executionInfo": {
     "elapsed": 6,
     "status": "ok",
     "timestamp": 1672254314143,
     "user": {
      "displayName": "Mert Karabacak",
      "userId": "14308977132914475412"
     },
     "user_tz": 300
    },
    "id": "f7a6bff0",
    "outputId": "78e580dd-4003-43d3-8c96-9b5105bdec2a"
   },
   "outputs": [],
   "source": [
    "#Check missing values for numerical columns.\n",
    "\n",
    "missing_num = data[num_cols].isnull().mean().round(4).mul(100).sort_values(ascending=False)\n",
    "\n",
    "missing_num = pd.DataFrame(missing_num)\n",
    "\n",
    "missing_num.columns = ['Value']\n",
    "\n",
    "missing_num = missing_num[missing_num['Value'] > 0]\n",
    "\n",
    "print(missing_num.index)\n",
    "\n",
    "missing_num = missing_num[missing_num['Value'] > 25]\n",
    "\n",
    "missing_num = list(missing_num.index)\n",
    "\n",
    "print(missing_num)"
   ]
  },
  {
   "cell_type": "code",
   "execution_count": null,
   "id": "e128cfb5",
   "metadata": {
    "executionInfo": {
     "elapsed": 182,
     "status": "ok",
     "timestamp": 1672254314322,
     "user": {
      "displayName": "Mert Karabacak",
      "userId": "14308977132914475412"
     },
     "user_tz": 300
    },
    "id": "e128cfb5"
   },
   "outputs": [],
   "source": [
    "#Drop numerical columns with missing values over 25%.\n",
    "\n",
    "data.drop(missing_num, axis=1, inplace=True)"
   ]
  },
  {
   "cell_type": "code",
   "execution_count": null,
   "id": "4756b292",
   "metadata": {
    "colab": {
     "base_uri": "https://localhost:8080/"
    },
    "executionInfo": {
     "elapsed": 3,
     "status": "ok",
     "timestamp": 1672254314322,
     "user": {
      "displayName": "Mert Karabacak",
      "userId": "14308977132914475412"
     },
     "user_tz": 300
    },
    "id": "4756b292",
    "outputId": "e7226b11-444c-42e8-f5b1-c10d259c4c50"
   },
   "outputs": [],
   "source": [
    "#Define new numerical columns.\n",
    "\n",
    "num_cols = [x for x in num_cols if x not in missing_num]\n",
    "print(num_cols)"
   ]
  },
  {
   "cell_type": "code",
   "execution_count": null,
   "id": "ff8609cd",
   "metadata": {
    "executionInfo": {
     "elapsed": 1540,
     "status": "ok",
     "timestamp": 1672254315860,
     "user": {
      "displayName": "Mert Karabacak",
      "userId": "14308977132914475412"
     },
     "user_tz": 300
    },
    "id": "ff8609cd"
   },
   "outputs": [],
   "source": [
    "#Impute missing numerical values.\n",
    "\n",
    "num_imputer = KNNImputer(n_neighbors=5, weights='uniform', metric='nan_euclidean')\n",
    "data[num_cols] = num_imputer.fit_transform(data[num_cols])"
   ]
  },
  {
   "cell_type": "code",
   "execution_count": null,
   "id": "0dac04c6",
   "metadata": {
    "colab": {
     "base_uri": "https://localhost:8080/"
    },
    "executionInfo": {
     "elapsed": 8,
     "status": "ok",
     "timestamp": 1672254315861,
     "user": {
      "displayName": "Mert Karabacak",
      "userId": "14308977132914475412"
     },
     "user_tz": 300
    },
    "id": "0dac04c6",
    "outputId": "e6411462-d35f-492f-b10e-82ee672b7301"
   },
   "outputs": [],
   "source": [
    "#Check numerical variables with missing values after imputation.\n",
    "\n",
    "data[num_cols].isnull().mean().round(4).mul(100).sort_values(ascending=False)"
   ]
  },
  {
   "cell_type": "code",
   "execution_count": null,
   "id": "01b6490e",
   "metadata": {
    "colab": {
     "base_uri": "https://localhost:8080/"
    },
    "executionInfo": {
     "elapsed": 6,
     "status": "ok",
     "timestamp": 1672254315861,
     "user": {
      "displayName": "Mert Karabacak",
      "userId": "14308977132914475412"
     },
     "user_tz": 300
    },
    "id": "01b6490e",
    "outputId": "e2d2fe4a-21e7-4075-b483-2b1d120e3ec8"
   },
   "outputs": [],
   "source": [
    "#Check missing values for categorical columns.\n",
    "\n",
    "missing_cat = data[cat_cols].isnull().mean().round(4).mul(100).sort_values(ascending=False)\n",
    "\n",
    "missing_cat = pd.DataFrame(missing_cat)\n",
    "\n",
    "missing_cat.columns = ['Value']\n",
    "\n",
    "missing_cat = missing_cat[missing_cat['Value'] > 0]\n",
    "\n",
    "print(missing_cat.index)\n",
    "\n",
    "missing_cat = missing_cat[missing_cat['Value'] > 25]\n",
    "\n",
    "missing_cat = list(missing_cat.index)\n",
    "\n",
    "print(missing_cat)"
   ]
  },
  {
   "cell_type": "code",
   "execution_count": null,
   "id": "89d3cdc4",
   "metadata": {
    "executionInfo": {
     "elapsed": 122,
     "status": "ok",
     "timestamp": 1672254315980,
     "user": {
      "displayName": "Mert Karabacak",
      "userId": "14308977132914475412"
     },
     "user_tz": 300
    },
    "id": "89d3cdc4"
   },
   "outputs": [],
   "source": [
    "#Drop categorical columns with missing values over 25%.\n",
    "\n",
    "data.drop(missing_cat, axis=1, inplace=True)"
   ]
  },
  {
   "cell_type": "code",
   "execution_count": null,
   "id": "680fe385",
   "metadata": {
    "colab": {
     "base_uri": "https://localhost:8080/"
    },
    "executionInfo": {
     "elapsed": 2,
     "status": "ok",
     "timestamp": 1672254315980,
     "user": {
      "displayName": "Mert Karabacak",
      "userId": "14308977132914475412"
     },
     "user_tz": 300
    },
    "id": "680fe385",
    "outputId": "d4318272-56ab-4b2b-e835-be355d14cdcb"
   },
   "outputs": [],
   "source": [
    "#Define new categorical columns.\n",
    "\n",
    "cat_cols = [x for x in cat_cols if x not in missing_cat]\n",
    "print(cat_cols)"
   ]
  },
  {
   "cell_type": "code",
   "execution_count": null,
   "id": "9250b986",
   "metadata": {
    "executionInfo": {
     "elapsed": 1,
     "status": "ok",
     "timestamp": 1672254315980,
     "user": {
      "displayName": "Mert Karabacak",
      "userId": "14308977132914475412"
     },
     "user_tz": 300
    },
    "id": "9250b986"
   },
   "outputs": [],
   "source": [
    "#Replace missing categorical values with 'Unknown'.\n",
    "\n",
    "for col in cat_cols:\n",
    "    data[col].fillna(value='Unknown', inplace=True)"
   ]
  },
  {
   "cell_type": "code",
   "execution_count": null,
   "id": "adfd5ff2",
   "metadata": {
    "colab": {
     "base_uri": "https://localhost:8080/"
    },
    "executionInfo": {
     "elapsed": 127,
     "status": "ok",
     "timestamp": 1672254316106,
     "user": {
      "displayName": "Mert Karabacak",
      "userId": "14308977132914475412"
     },
     "user_tz": 300
    },
    "id": "adfd5ff2",
    "outputId": "75e500f0-5bae-4634-db50-6370ed4df86a"
   },
   "outputs": [],
   "source": [
    "#Check missing values after imputation.\n",
    "\n",
    "data[cat_cols].isnull().mean().round(4).mul(100).sort_values(ascending=False)"
   ]
  },
  {
   "cell_type": "code",
   "execution_count": null,
   "id": "2289a865",
   "metadata": {
    "executionInfo": {
     "elapsed": 207,
     "status": "ok",
     "timestamp": 1672254316312,
     "user": {
      "displayName": "Mert Karabacak",
      "userId": "14308977132914475412"
     },
     "user_tz": 300
    },
    "id": "2289a865"
   },
   "outputs": [],
   "source": [
    "#Save imputed data.\n",
    "\n",
    "data.to_csv('/content/drive/MyDrive/NSQIP-ALIF/alif_imputed.csv')"
   ]
  },
  {
   "cell_type": "code",
   "execution_count": null,
   "id": "4336ba8a",
   "metadata": {
    "executionInfo": {
     "elapsed": 141,
     "status": "ok",
     "timestamp": 1672254316452,
     "user": {
      "displayName": "Mert Karabacak",
      "userId": "14308977132914475412"
     },
     "user_tz": 300
    },
    "id": "4336ba8a"
   },
   "outputs": [],
   "source": [
    "#Normalize data.\n",
    "\n",
    "data[num_cols] = MinMaxScaler().fit_transform(data[num_cols])"
   ]
  },
  {
   "cell_type": "code",
   "execution_count": null,
   "id": "c5490d9b",
   "metadata": {
    "executionInfo": {
     "elapsed": 199,
     "status": "ok",
     "timestamp": 1672254316649,
     "user": {
      "displayName": "Mert Karabacak",
      "userId": "14308977132914475412"
     },
     "user_tz": 300
    },
    "id": "c5490d9b"
   },
   "outputs": [],
   "source": [
    "#Save scaled data.\n",
    "\n",
    "data.to_csv('/content/drive/MyDrive/NSQIP-ALIF/alif_scaled.csv')"
   ]
  },
  {
   "cell_type": "code",
   "execution_count": null,
   "id": "dfbec9b0",
   "metadata": {
    "executionInfo": {
     "elapsed": 143,
     "status": "ok",
     "timestamp": 1672254316791,
     "user": {
      "displayName": "Mert Karabacak",
      "userId": "14308977132914475412"
     },
     "user_tz": 300
    },
    "id": "dfbec9b0"
   },
   "outputs": [],
   "source": [
    "#One hot encoding for categorical values.\n",
    "\n",
    "data_final = pd.get_dummies(data, columns = cat_cols, drop_first = True)"
   ]
  },
  {
   "cell_type": "code",
   "execution_count": null,
   "id": "cc12859a",
   "metadata": {
    "executionInfo": {
     "elapsed": 231,
     "status": "ok",
     "timestamp": 1672254317020,
     "user": {
      "displayName": "Mert Karabacak",
      "userId": "14308977132914475412"
     },
     "user_tz": 300
    },
    "id": "cc12859a"
   },
   "outputs": [],
   "source": [
    "#Save final data.\n",
    "\n",
    "data_final.to_csv('/content/drive/MyDrive/NSQIP-ALIF/alif_final.csv')"
   ]
  }
 ],
 "metadata": {
  "colab": {
   "machine_shape": "hm",
   "provenance": [
    {
     "file_id": "1ggfw-q5XTxdzPn9nnqb4pk7uxKjkpaga",
     "timestamp": 1672250375960
    },
    {
     "file_id": "1g8wyPIRJw1XKU7zF_T4SgLWpAzCOvEQJ",
     "timestamp": 1671643302648
    },
    {
     "file_id": "1Nau1T8kYhu_teXcKnDyTzUTVNIRcruHN",
     "timestamp": 1671032966766
    },
    {
     "file_id": "1fRg4CV3EaBnihAqddzIHeCaU4bmkgUi3",
     "timestamp": 1669913930106
    },
    {
     "file_id": "1AXH9JUz2PztvXr-hpN3EzKrUTEbGW2Si",
     "timestamp": 1669306790787
    }
   ]
  },
  "environment": {
   "kernel": "python3",
   "name": "common-cpu.m100",
   "type": "gcloud",
   "uri": "gcr.io/deeplearning-platform-release/base-cpu:m100"
  },
  "gpuClass": "standard",
  "kernelspec": {
   "display_name": "Python 3 (ipykernel)",
   "language": "python",
   "name": "python3"
  },
  "language_info": {
   "codemirror_mode": {
    "name": "ipython",
    "version": 3
   },
   "file_extension": ".py",
   "mimetype": "text/x-python",
   "name": "python",
   "nbconvert_exporter": "python",
   "pygments_lexer": "ipython3",
   "version": "3.9.7"
  }
 },
 "nbformat": 4,
 "nbformat_minor": 5
}
