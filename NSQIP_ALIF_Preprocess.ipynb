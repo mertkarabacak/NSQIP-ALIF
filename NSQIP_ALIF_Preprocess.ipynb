{
  "cells": [
    {
      "cell_type": "code",
      "source": [
        "from google.colab import drive\n",
        "drive.mount('/content/drive')"
      ],
      "metadata": {
        "id": "vZ9ODoBSguOo"
      },
      "id": "vZ9ODoBSguOo",
      "execution_count": null,
      "outputs": []
    },
    {
      "cell_type": "code",
      "execution_count": null,
      "id": "45bff18b",
      "metadata": {
        "tags": [],
        "id": "45bff18b"
      },
      "outputs": [],
      "source": [
        "import numpy as np\n",
        "import pandas as pd\n",
        "from sklearn.impute import KNNImputer\n",
        "from matplotlib import pyplot as plt\n",
        "\n",
        "pd.set_option('display.max_rows', None)"
      ]
    },
    {
      "cell_type": "code",
      "execution_count": null,
      "id": "721c822b",
      "metadata": {
        "id": "721c822b"
      },
      "outputs": [],
      "source": [
        "#Open csv file.\n",
        "\n",
        "data = pd.read_csv(\"/content/drive/MyDrive/NSQIP-ALIF/data_combined.csv\", index_col=0, na_values = -99)"
      ]
    },
    {
      "cell_type": "code",
      "execution_count": null,
      "id": "2ddf793b",
      "metadata": {
        "id": "2ddf793b"
      },
      "outputs": [],
      "source": [
        "#See all columns.\n",
        "\n",
        "print(list(data.columns))"
      ]
    },
    {
      "cell_type": "code",
      "execution_count": null,
      "id": "6b72f120",
      "metadata": {
        "id": "6b72f120"
      },
      "outputs": [],
      "source": [
        "#Check data shape.\n",
        "\n",
        "data.shape"
      ]
    },
    {
      "cell_type": "code",
      "execution_count": null,
      "id": "a143c94a",
      "metadata": {
        "id": "a143c94a"
      },
      "outputs": [],
      "source": [
        "#Define variables of interest (predictor variables, inclusion/exclusion criteria, outcomes of interest).\n",
        "\n",
        "variables = ['SEX', 'RACE_NEW', 'ETHNICITY_HISPANIC', 'CPT', 'STILLINHOSP', 'TRANST', 'AGE', 'ANESTHES', 'SURGSPEC', 'ELECTSURG', 'HEIGHT', 'WEIGHT', 'DIABETES', 'SMOKE', 'DYSPNEA', 'FNSTATUS2', 'VENTILAT', 'HXCOPD', 'ASCITES', 'HXCHF', 'HYPERMED', 'RENAFAIL', 'DIALYSIS', 'DISCANCR', 'WNDINF', 'STEROID', 'WTLOSS', 'BLEEDDIS', 'TRANSFUS', 'PRSEPIS', 'PRSODM', 'PRBUN', 'PRCREAT', 'PRALBUM', 'PRBILI', 'PRSGOT', 'PRALKPH', 'PRWBC', 'PRHCT', 'PRPLATE', 'PRPTT', 'PRINR', 'PRPT', 'EMERGNCY', 'WNDCLAS', 'ASACLAS', 'PODIAG', 'PODIAG10', 'READMISSION1', 'REOPERATION1', 'DISCHDEST', 'TOTHLOS', 'NWNDINFD', 'NORGSPCSSI', 'NDEHIS', 'NREINTUB', 'NPULEMBOL', 'NFAILWEAN', 'NRENAINSF', 'NOPRENAFL', 'NCNSCVA', 'NCDARREST', 'NCDMI', 'NOTHBLEED', 'NOTHDVT', 'NOTHSYSEP', 'NOTHSESHOCK',  'OTHERCPT1', 'OTHERCPT2', 'OTHERCPT3', 'OTHERCPT4', 'OTHERCPT5', 'OTHERCPT6', 'OTHERCPT7', 'OTHERCPT8', 'OTHERCPT9', 'OTHERCPT10', 'CONCPT1', 'CONCPT2', 'CONCPT3', 'CONCPT4', 'CONCPT5', 'CONCPT6', 'CONCPT7', 'CONCPT8', 'CONCPT9', 'CONCPT10']"
      ]
    },
    {
      "cell_type": "code",
      "execution_count": null,
      "id": "a21a408c",
      "metadata": {
        "id": "a21a408c"
      },
      "outputs": [],
      "source": [
        "#Remove unwanted columns and check data shape.\n",
        "\n",
        "data = data[variables]\n",
        "\n",
        "data.shape"
      ]
    },
    {
      "cell_type": "markdown",
      "source": [
        "#Inclusion Criteria"
      ],
      "metadata": {
        "id": "M7ZZAbGxpdPz"
      },
      "id": "M7ZZAbGxpdPz"
    },
    {
      "cell_type": "code",
      "source": [
        "#Apply inclusion criteria for elective surgeries.\n",
        "\n",
        "before = data.shape[0]\n",
        "data = data[(data['ELECTSURG'] == 'Yes')]\n",
        "after = data.shape[0]\n",
        "excluded = before - after\n",
        "\n",
        "print('Number of patients before exclusion: ', before)\n",
        "print('Number of patients after exclusion: ', after)\n",
        "print('Number of patients excluded with this criteria: ', excluded)"
      ],
      "metadata": {
        "id": "IRIc3FxdtsLE"
      },
      "id": "IRIc3FxdtsLE",
      "execution_count": null,
      "outputs": []
    },
    {
      "cell_type": "code",
      "execution_count": null,
      "id": "056878f5",
      "metadata": {
        "id": "056878f5"
      },
      "outputs": [],
      "source": [
        "#Apply inclusion criteria for general anesthesia.\n",
        "\n",
        "before = data.shape[0]\n",
        "data = data[(data['ANESTHES'] == 'General')]\n",
        "after = data.shape[0]\n",
        "excluded = before - after\n",
        "\n",
        "print('Number of patients before exclusion: ', before)\n",
        "print('Number of patients after exclusion: ', after)\n",
        "print('Number of patients excluded with this criteria: ', excluded)"
      ]
    },
    {
      "cell_type": "code",
      "execution_count": null,
      "id": "7cf0695f",
      "metadata": {
        "id": "7cf0695f"
      },
      "outputs": [],
      "source": [
        "#Apply inclusion criteria for surgical specialties.\n",
        "\n",
        "before = data.shape[0]\n",
        "data = data[(data['SURGSPEC'] == 'Neurosurgery') | (data['SURGSPEC'] == 'Orthopedics')]\n",
        "after = data.shape[0]\n",
        "excluded = before - after\n",
        "\n",
        "print('Number of patients before exclusion: ', before)\n",
        "print('Number of patients after exclusion: ', after)\n",
        "print('Number of patients excluded with this criteria: ', excluded)"
      ]
    },
    {
      "cell_type": "markdown",
      "source": [
        "#Exclusion Criteria"
      ],
      "metadata": {
        "id": "VnSi8Slf1SnD"
      },
      "id": "VnSi8Slf1SnD"
    },
    {
      "cell_type": "markdown",
      "source": [
        "##Other Exclusion Criteria"
      ],
      "metadata": {
        "id": "ai8XXMGHUa8L"
      },
      "id": "ai8XXMGHUa8L"
    },
    {
      "cell_type": "code",
      "execution_count": null,
      "id": "bb4d527c",
      "metadata": {
        "id": "bb4d527c"
      },
      "outputs": [],
      "source": [
        "#Apply exclusion criteria for emergency surgery.\n",
        "\n",
        "before = data.shape[0]\n",
        "data = data[(data['EMERGNCY'] == 'No')]\n",
        "after = data.shape[0]\n",
        "excluded = before - after\n",
        "\n",
        "print('Number of patients before exclusion: ', before)\n",
        "print('Number of patients after exclusion: ', after)\n",
        "print('Number of patients excluded with this criteria: ', excluded)"
      ]
    },
    {
      "cell_type": "code",
      "execution_count": null,
      "id": "b6d72d44",
      "metadata": {
        "id": "b6d72d44"
      },
      "outputs": [],
      "source": [
        "#Apply exclusion criteria for wound class.\n",
        "\n",
        "before = data.shape[0]\n",
        "data = data[(data['WNDCLAS'] == '1-Clean')]\n",
        "after = data.shape[0]\n",
        "excluded = before - after\n",
        "\n",
        "print('Number of patients before exclusion: ', before)\n",
        "print('Number of patients after exclusion: ', after)\n",
        "print('Number of patients excluded with this criteria: ', excluded)"
      ]
    },
    {
      "cell_type": "code",
      "execution_count": null,
      "id": "78f75891",
      "metadata": {
        "id": "78f75891"
      },
      "outputs": [],
      "source": [
        "#Apply exclusion criteria for preoperative sepsis.\n",
        "\n",
        "before = data.shape[0]\n",
        "data = data[(data['PRSEPIS'] == 'None')]\n",
        "after = data.shape[0]\n",
        "excluded = before - after\n",
        "\n",
        "print('Number of patients before exclusion: ', before)\n",
        "print('Number of patients after exclusion: ', after)\n",
        "print('Number of patients excluded with this criteria: ', excluded)"
      ]
    },
    {
      "cell_type": "code",
      "execution_count": null,
      "id": "3e51b8d4",
      "metadata": {
        "id": "3e51b8d4"
      },
      "outputs": [],
      "source": [
        "#Apply exclusion criteria for ASA class.\n",
        "\n",
        "before = data.shape[0]\n",
        "data = data[(data['ASACLAS'] != '4-Life Threat') & (data['ASACLAS'] != '5-Moribund') & (data['ASACLAS'] != 'None assigned')]\n",
        "after = data.shape[0]\n",
        "excluded = before - after\n",
        "\n",
        "print('Number of patients before exclusion: ', before)\n",
        "print('Number of patients after exclusion: ', after)\n",
        "print('Number of patients excluded with this criteria: ', excluded)"
      ]
    },
    {
      "cell_type": "code",
      "source": [
        "#Apply exclusion criteria for patients still in hospital after 30 days.\n",
        "\n",
        "before = data.shape[0]\n",
        "data = data[(data['STILLINHOSP'] == 'No')]\n",
        "after = data.shape[0]\n",
        "excluded = before - after\n",
        "\n",
        "print('Number of patients before exclusion: ', before)\n",
        "print('Number of patients after exclusion: ', after)\n",
        "print('Number of patients excluded with this criteria: ', excluded)"
      ],
      "metadata": {
        "id": "keAt399SKT7D"
      },
      "id": "keAt399SKT7D",
      "execution_count": null,
      "outputs": []
    },
    {
      "cell_type": "code",
      "source": [
        "#Apply exclusion criteria for patients with missing LOS and discharge destinations.\n",
        "\n",
        "before = data.shape[0]\n",
        "data = data[data['TOTHLOS'].notna()]\n",
        "data = data[data['DISCHDEST'].notna()]\n",
        "data = data[(data['DISCHDEST'] != 'Unknown')]\n",
        "after = data.shape[0]\n",
        "excluded = before - after\n",
        "\n",
        "print('Number of patients before exclusion: ', before)\n",
        "print('Number of patients after exclusion: ', after)\n",
        "print('Number of patients excluded with this criteria: ', excluded)"
      ],
      "metadata": {
        "id": "-P74sy-Zrb00"
      },
      "id": "-P74sy-Zrb00",
      "execution_count": null,
      "outputs": []
    },
    {
      "cell_type": "code",
      "source": [
        "#Apply exclusion criteria for discharge destinations.\n",
        "\n",
        "before = data.shape[0]\n",
        "data = data[(data['DISCHDEST'] != 'Expired')]\n",
        "data = data[(data['DISCHDEST'] != 'Hospice')]\n",
        "data = data[(data['DISCHDEST'] != 'Against Medical Advice (AMA)')]\n",
        "after = data.shape[0]\n",
        "excluded = before - after\n",
        "\n",
        "print('Number of patients before exclusion: ', before)\n",
        "print('Number of patients after exclusion: ', after)\n",
        "print('Number of patients excluded with this criteria: ', excluded)"
      ],
      "metadata": {
        "id": "PFVYqi-Sr6Nu"
      },
      "id": "PFVYqi-Sr6Nu",
      "execution_count": null,
      "outputs": []
    },
    {
      "cell_type": "markdown",
      "source": [
        "##Based on CPT Codes"
      ],
      "metadata": {
        "id": "JGWsS7aoUXOr"
      },
      "id": "JGWsS7aoUXOr"
    },
    {
      "cell_type": "code",
      "source": [
        "#Exclude patients with CPT codes that were assigned to be excluding.\n",
        "\n",
        "columns = ['CPT', 'OTHERCPT1', 'OTHERCPT2', 'OTHERCPT3', 'OTHERCPT4', 'OTHERCPT5', 'OTHERCPT6',\n",
        "           'OTHERCPT7', 'OTHERCPT8', 'OTHERCPT9', 'OTHERCPT10', 'CONCPT1', 'CONCPT2', 'CONCPT3',\n",
        "           'CONCPT4', 'CONCPT5', 'CONCPT6', 'CONCPT7', 'CONCPT8', 'CONCPT9', 'CONCPT10']\n",
        "\n",
        "codes_to_exclude = [22612, 22800, 22802, 22804, 22842, 22843, 22844, 63030, 63047, 63042]\n",
        "\n",
        "for column in columns:\n",
        "    for code in codes_to_exclude:\n",
        "        data.loc[data[column] == code, 'CPT_EX'] = 'Yes'\n",
        "\n",
        "data.loc[data['CPT_EX'] != 'Yes', 'CPT_EX'] = 'No'\n",
        "\n",
        "before = data.shape[0]\n",
        "data = data[(data['CPT_EX'] == 'No')]\n",
        "after = data.shape[0]\n",
        "excluded = before - after\n",
        "\n",
        "print('Number of patients before exclusion: ', before)\n",
        "print('Number of patients after exclusion: ', after)\n",
        "print('Number of patients excluded with this criteria: ', excluded)"
      ],
      "metadata": {
        "id": "lrQkyLFr3jcd"
      },
      "id": "lrQkyLFr3jcd",
      "execution_count": null,
      "outputs": []
    },
    {
      "cell_type": "markdown",
      "source": [
        "##Based on ICD Codes"
      ],
      "metadata": {
        "id": "VjSfLdDrUOHb"
      },
      "id": "VjSfLdDrUOHb"
    },
    {
      "cell_type": "code",
      "execution_count": null,
      "id": "e833d5f3-9f7f-4a3e-8d7a-afc513b32bb0",
      "metadata": {
        "id": "e833d5f3-9f7f-4a3e-8d7a-afc513b32bb0"
      },
      "outputs": [],
      "source": [
        "#See the ICD codes' unique value counts for the patient cohort.\n",
        "\n",
        "icd_codes_df = data['PODIAG10'].value_counts(normalize=False, dropna=False).to_frame()\n",
        "icd_codes_index = icd_codes_df.index.tolist()"
      ]
    },
    {
      "cell_type": "code",
      "source": [
        "#Exclude patients with ICD codes that were used less than 10 in the patient population.\n",
        "\n",
        "icd_codes_df = data['PODIAG10'].value_counts(normalize=False, dropna=False).to_frame()\n",
        "\n",
        "icd_codes_df.columns =['Value']\n",
        "\n",
        "icd_codes_df = icd_codes_df[icd_codes_df['Value'] >= 50]\n",
        "\n",
        "icd_to_include = icd_codes_df.index.tolist()\n",
        "\n",
        "before = data.shape[0]\n",
        "data = data[data.PODIAG10.isin(icd_to_include)]\n",
        "after = data.shape[0]\n",
        "excluded = before - after\n",
        "\n",
        "print('Number of patients before exclusion: ', before)\n",
        "print('Number of patients after exclusion: ', after)\n",
        "print('Number of patients excluded with this criteria: ', excluded)"
      ],
      "metadata": {
        "id": "yljUZHWcoy8e"
      },
      "id": "yljUZHWcoy8e",
      "execution_count": null,
      "outputs": []
    },
    {
      "cell_type": "code",
      "execution_count": null,
      "id": "70a79794-5bfb-4eb4-9578-4fafaaeac68d",
      "metadata": {
        "tags": [],
        "id": "70a79794-5bfb-4eb4-9578-4fafaaeac68d"
      },
      "outputs": [],
      "source": [
        "#Get the descriptions for ICD codes.\n",
        "\n",
        "icd10 = pd.read_csv(\"/content/drive/MyDrive/NSQIP-PUFs/ICD10_Descriptions.csv\", index_col = 'PODIAG10', encoding = 'latin1', low_memory = False)\n",
        "icd10 = icd10.filter(items = icd_to_include, axis=0)"
      ]
    },
    {
      "cell_type": "code",
      "execution_count": null,
      "id": "fea582d8-4978-41d4-9d56-0be025df47be",
      "metadata": {
        "tags": [],
        "id": "fea582d8-4978-41d4-9d56-0be025df47be"
      },
      "outputs": [],
      "source": [
        "#Save the ICD codes with descriptions and value counts.\n",
        "\n",
        "icd = pd.concat([icd10, icd_codes_df], axis=1)\n",
        "icd.to_csv('/content/drive/MyDrive/NSQIP-ALIF/icd_value_counts.csv')"
      ]
    },
    {
      "cell_type": "markdown",
      "source": [
        "Stop and review the icd_value_counts.csv file."
      ],
      "metadata": {
        "id": "lF0EKCzaZVTL"
      },
      "id": "lF0EKCzaZVTL"
    },
    {
      "cell_type": "code",
      "source": [
        "#Review the ICD table for excluding patients with exclude patients diagnosed with a fracture, neoplasm, infection, instrumentation related complications or lumbar/thoracic/sacral site diagnoses.\n",
        "\n",
        "icd_to_exclude = ['M96.0', 'M96.1']\n",
        "\n",
        "data = data[~data.PODIAG10.isin(icd_to_exclude)]"
      ],
      "metadata": {
        "id": "IoPCXtGIrW6Y"
      },
      "id": "IoPCXtGIrW6Y",
      "execution_count": null,
      "outputs": []
    },
    {
      "cell_type": "code",
      "source": [
        "#Drop patients with missing ICD codes.\n",
        "\n",
        "before = data.shape[0]\n",
        "data = data[data['PODIAG10'].notna()]\n",
        "after = data.shape[0]\n",
        "excluded = before - after\n",
        "\n",
        "print('Number of patients before exclusion: ', before)\n",
        "print('Number of patients after exclusion: ', after)\n",
        "print('Number of patients excluded with this criteria: ', excluded)"
      ],
      "metadata": {
        "id": "9ReAHIpq0fdo"
      },
      "id": "9ReAHIpq0fdo",
      "execution_count": null,
      "outputs": []
    },
    {
      "cell_type": "markdown",
      "source": [
        "#Renaming and Merging Response Values"
      ],
      "metadata": {
        "id": "GPUtYB3R1toP"
      },
      "id": "GPUtYB3R1toP"
    },
    {
      "cell_type": "code",
      "source": [
        "#Capitalize response values for 'SEX'.\n",
        "\n",
        "data.loc[data['SEX'] == 'male', 'SEX'] = 'Male'\n",
        "data.loc[data['SEX'] == 'female', 'SEX'] = 'Female'\n",
        "data.loc[data['SEX'] == 'non-binary', 'SEX'] = 'Non-binary'"
      ],
      "metadata": {
        "id": "VN6Baalr3os7"
      },
      "id": "VN6Baalr3os7",
      "execution_count": null,
      "outputs": []
    },
    {
      "cell_type": "code",
      "execution_count": null,
      "id": "fbf1c8ec",
      "metadata": {
        "id": "fbf1c8ec"
      },
      "outputs": [],
      "source": [
        "#Check data for race.\n",
        "\n",
        "data['RACE_NEW'].value_counts(normalize=False, dropna=False)"
      ]
    },
    {
      "cell_type": "code",
      "execution_count": null,
      "id": "edfeff13",
      "metadata": {
        "id": "edfeff13"
      },
      "outputs": [],
      "source": [
        "#Simplify 'RACE_NEW' column.\n",
        "\n",
        "data.loc[data['RACE_NEW'] == 'Unknown/Not Reported', 'RACE_NEW'] = 'Other/Unknown'\n",
        "data.loc[data['RACE_NEW'] == 'Some Other Race', 'RACE_NEW'] = 'Other/Unknown'\n",
        "data.loc[data['RACE_NEW'] == 'Native Hawaiian or Other Pacific Islander', 'RACE_NEW'] = 'Other/Unknown'\n",
        "data.loc[data['RACE_NEW'] == 'American Indian or Alaska Native', 'RACE_NEW'] = 'Other/Unknown'\n",
        "data.loc[data['RACE_NEW'] == 'Native Hawaiian or Pacific Islander', 'RACE_NEW'] = 'Other/Unknown'\n",
        "data.loc[data['RACE_NEW'] == 'Native Hawaiian or Other Pacific Islander', 'RACE_NEW'] = 'Other/Unknown'\n",
        "data.loc[data['RACE_NEW'] == 'Race combinations with low frequency', 'RACE_NEW'] = 'Other/Unknown'\n",
        "\n",
        "data['RACE_NEW'].value_counts(normalize=False, dropna=False)"
      ]
    },
    {
      "cell_type": "code",
      "source": [
        "#Convert inch to meter and lbs to kg.\n",
        "\n",
        "lbs_to_kg_ratio = 0.453592\n",
        "inch_to_meter_ratio = 0.0254\n",
        "\n",
        "data['HEIGHT'] *= inch_to_meter_ratio\n",
        "data['WEIGHT'] *= lbs_to_kg_ratio"
      ],
      "metadata": {
        "id": "Xty7qCxrRu0z"
      },
      "id": "Xty7qCxrRu0z",
      "execution_count": null,
      "outputs": []
    },
    {
      "cell_type": "code",
      "execution_count": null,
      "id": "058b3c3d",
      "metadata": {
        "id": "058b3c3d"
      },
      "outputs": [],
      "source": [
        "#Check data for transfer status.\n",
        "\n",
        "data['TRANST'].value_counts(normalize=False, dropna=False)"
      ]
    },
    {
      "cell_type": "code",
      "execution_count": null,
      "id": "c3af9dc4",
      "metadata": {
        "id": "c3af9dc4"
      },
      "outputs": [],
      "source": [
        "#Simplify 'TRANST' column.\n",
        "\n",
        "data.loc[data['TRANST'] == 'Not transferred (admitted from home)', 'TRANST'] = 'Not transferred'\n",
        "data.loc[data['TRANST'] == 'From acute care hospital inpatient', 'TRANST'] = 'Transferred'\n",
        "data.loc[data['TRANST'] == 'Outside emergency department', 'TRANST'] = 'Transferred'\n",
        "data.loc[data['TRANST'] == 'Nursing home - Chronic care - Intermediate care', 'TRANST'] = 'Transferred'\n",
        "data.loc[data['TRANST'] == 'Transfer from other', 'TRANST'] = 'Transferred'\n",
        "\n",
        "data['TRANST'].value_counts(normalize=False, dropna=False)"
      ]
    },
    {
      "cell_type": "code",
      "execution_count": null,
      "id": "ba88fac8",
      "metadata": {
        "id": "ba88fac8"
      },
      "outputs": [],
      "source": [
        "#Check data for dyspnea.\n",
        "\n",
        "data['DYSPNEA'].value_counts(normalize=False, dropna=False)"
      ]
    },
    {
      "cell_type": "code",
      "execution_count": null,
      "id": "5557e3e3",
      "metadata": {
        "id": "5557e3e3"
      },
      "outputs": [],
      "source": [
        "#Simplify 'DYSPNEA' column.\n",
        "\n",
        "data.loc[data['DYSPNEA'] == 'No', 'DYSPNEA'] = 'No'\n",
        "data.loc[data['DYSPNEA'] == 'MODERATE EXERTION', 'DYSPNEA'] = 'Yes'\n",
        "data.loc[data['DYSPNEA'] == 'AT REST', 'DYSPNEA'] = 'Yes'\n",
        "\n",
        "data['DYSPNEA'].value_counts(normalize=False, dropna=False)"
      ]
    },
    {
      "cell_type": "code",
      "execution_count": null,
      "id": "238ad170",
      "metadata": {
        "id": "238ad170"
      },
      "outputs": [],
      "source": [
        "#Check data for diabetes status.\n",
        "\n",
        "data['DIABETES'].value_counts(normalize=False, dropna=False)"
      ]
    },
    {
      "cell_type": "code",
      "execution_count": null,
      "id": "d0378434",
      "metadata": {
        "id": "d0378434"
      },
      "outputs": [],
      "source": [
        "#Simplify 'DIABETES' column.\n",
        "\n",
        "data.loc[data['DIABETES'] == 'NO', 'DIABETES'] = 'No'\n",
        "data.loc[data['DIABETES'] == 'NON-INSULIN', 'DIABETES'] = 'Yes'\n",
        "data.loc[data['DIABETES'] == 'INSULIN', 'DIABETES'] = 'Yes'\n",
        "\n",
        "data['DIABETES'].value_counts(normalize=False, dropna=False)"
      ]
    },
    {
      "cell_type": "code",
      "execution_count": null,
      "id": "9fb66caf",
      "metadata": {
        "id": "9fb66caf"
      },
      "outputs": [],
      "source": [
        "#Convert 90+ to 91 and AGE column to integer.\n",
        "\n",
        "data.loc[data['AGE'] == '90+', 'AGE'] = 91\n",
        "data['AGE'] = pd.to_numeric(data['AGE'], downcast='integer')"
      ]
    },
    {
      "cell_type": "code",
      "source": [
        "#Identify multiple level surgeries with the new column 'Single or Multiple Level Surgery'.\n",
        "\n",
        "columns = ['CPT', 'CONCPT1', 'CONCPT2', 'CONCPT3', 'CONCPT4', 'CONCPT5', 'CONCPT6',\n",
        "           'CONCPT7', 'CONCPT9', 'CONCPT10', 'OTHERCPT1', 'OTHERCPT2', 'OTHERCPT3',\n",
        "           'OTHERCPT4', 'OTHERCPT5', 'OTHERCPT6', 'OTHERCPT7', 'OTHERCPT9', 'OTHERCPT10']\n",
        "\n",
        "codes = [22585]\n",
        "\n",
        "for col in columns:\n",
        "    for code in codes:\n",
        "        data.loc[data[col] == code, 'Single or Multiple Level Surgery'] = 'Multiple'\n",
        "\n",
        "data.loc[data['Single or Multiple Level Surgery'] != 'Multiple', 'Single or Multiple Level Surgery'] = 'Single'\n",
        "\n",
        "data['Single or Multiple Level Surgery'].value_counts(dropna=False)"
      ],
      "metadata": {
        "id": "Yich3s7pvQbq"
      },
      "id": "Yich3s7pvQbq",
      "execution_count": null,
      "outputs": []
    },
    {
      "cell_type": "code",
      "source": [
        "#Define major complications.\n",
        "\n",
        "complications = ['NWNDINFD', 'NORGSPCSSI', 'NDEHIS', 'NREINTUB', 'NPULEMBOL',\n",
        "                 'NFAILWEAN', 'NRENAINSF', 'NOPRENAFL', 'NCNSCVA', 'NCDARREST',\n",
        "                 'NCDMI', 'NOTHBLEED', 'NOTHDVT', 'NOTHSYSEP', 'NOTHSESHOCK']\n",
        "\n",
        "#Define a new column 'MAJRCOMP' to hold the sum of all major complications.\n",
        "\n",
        "data['MAJRCOMP'] = data[complications].sum(axis=1)\n",
        "data['MAJRCOMP'].fillna(0, inplace=True)\n",
        "\n",
        "#Convert 'MAJRCOMP' into a categorical variable.\n",
        "\n",
        "data.loc[data['MAJRCOMP'] == 0, 'COMPLICATIONS'] = 'No'\n",
        "data.loc[data['MAJRCOMP'] >= 1, 'COMPLICATIONS'] = 'Yes'\n",
        "\n",
        "data['COMPLICATIONS'].value_counts(normalize=False, dropna=False)"
      ],
      "metadata": {
        "id": "AGuQPNlc01RP"
      },
      "id": "AGuQPNlc01RP",
      "execution_count": null,
      "outputs": []
    },
    {
      "cell_type": "code",
      "execution_count": null,
      "id": "55ead6a8",
      "metadata": {
        "id": "55ead6a8"
      },
      "outputs": [],
      "source": [
        "#See all columns.\n",
        "\n",
        "print(list(data.columns))"
      ]
    },
    {
      "cell_type": "code",
      "execution_count": null,
      "id": "a7b333b1",
      "metadata": {
        "id": "a7b333b1"
      },
      "outputs": [],
      "source": [
        "#Drop unwanted columns.\n",
        "\n",
        "drop = ['STILLINHOSP', 'ANESTHES', 'EMERGNCY', 'WNDCLAS', 'ELECTSURG', 'PRSEPIS', 'MAJRCOMP', 'NWNDINFD', 'NORGSPCSSI', 'NDEHIS', 'NREINTUB', 'NPULEMBOL', 'NFAILWEAN', 'NRENAINSF', 'NOPRENAFL', 'NCNSCVA', 'NCDARREST', 'NCDMI', 'NOTHBLEED', 'NOTHDVT', 'NOTHSYSEP', 'NOTHSESHOCK', 'PODIAG', 'PODIAG10', 'CPT_EX', 'CPT', 'OTHERCPT1', 'OTHERCPT2', 'OTHERCPT3', 'OTHERCPT4', 'OTHERCPT5', 'OTHERCPT6', 'OTHERCPT7', 'OTHERCPT8', 'OTHERCPT9', 'OTHERCPT10', 'CONCPT1', 'CONCPT2', 'CONCPT3', 'CONCPT4', 'CONCPT5', 'CONCPT6', 'CONCPT7', 'CONCPT8', 'CONCPT9', 'CONCPT10']\n",
        "\n",
        "data.drop(drop, axis=1, inplace=True)"
      ]
    },
    {
      "cell_type": "markdown",
      "source": [
        "#Imputation"
      ],
      "metadata": {
        "id": "QYGvdc5_1DM5"
      },
      "id": "QYGvdc5_1DM5"
    },
    {
      "cell_type": "code",
      "source": [
        "#See all columns.\n",
        "\n",
        "print(list(data.columns))"
      ],
      "metadata": {
        "id": "sZfcGFO5TwfZ"
      },
      "id": "sZfcGFO5TwfZ",
      "execution_count": null,
      "outputs": []
    },
    {
      "cell_type": "code",
      "source": [
        "#Define numerical and categorical columns.\n",
        "\n",
        "num_cols = list(data.select_dtypes('number').columns)\n",
        "print('Numerical columns: {}'.format(num_cols), '\\n')\n",
        "\n",
        "cat_cols = list(data.select_dtypes('object').columns)\n",
        "print('Categorical columns: {}'.format(cat_cols))"
      ],
      "metadata": {
        "id": "4dqVo2njS-DJ"
      },
      "id": "4dqVo2njS-DJ",
      "execution_count": null,
      "outputs": []
    },
    {
      "cell_type": "code",
      "execution_count": null,
      "id": "11efb52b",
      "metadata": {
        "id": "11efb52b"
      },
      "outputs": [],
      "source": [
        "#Remove outcomes.\n",
        "\n",
        "num_cols_remove = ['TOTHLOS']\n",
        "cat_cols_remove = ['READMISSION1', 'DISCHDEST', 'COMPLICATIONS', 'REOPERATION1']\n",
        "\n",
        "num_cols = [i for i in num_cols if i not in num_cols_remove]\n",
        "cat_cols = [i for i in cat_cols if i not in cat_cols_remove]"
      ]
    },
    {
      "cell_type": "code",
      "source": [
        "#Check missing values for numerical columns.\n",
        "\n",
        "missing_num = data[num_cols].isnull().mean().round(4).mul(100).sort_values(ascending=False)\n",
        "\n",
        "print(missing_num, '\\n')\n",
        "\n",
        "missing_num = pd.DataFrame(missing_num)\n",
        "\n",
        "missing_num.columns = ['Value']\n",
        "\n",
        "missing_num = missing_num[missing_num['Value'] > 0]\n",
        "\n",
        "print('Numerical variables with missing values: ', list(missing_num.index), '\\n')\n",
        "\n",
        "print('Number of numerical variables with missing values: ', len(list(missing_num.index)), '\\n')\n",
        "\n",
        "missing_num = missing_num[missing_num['Value'] > 25]\n",
        "\n",
        "missing_num = list(missing_num.index)\n",
        "\n",
        "print('Excluded numerical variables: ', missing_num)"
      ],
      "metadata": {
        "id": "CvcMDbHdTIHA"
      },
      "id": "CvcMDbHdTIHA",
      "execution_count": null,
      "outputs": []
    },
    {
      "cell_type": "code",
      "source": [
        "#Drop numerical columns with missing values over 25%.\n",
        "\n",
        "data.drop(missing_num, axis=1, inplace=True)"
      ],
      "metadata": {
        "id": "NBxJPB71TJyB"
      },
      "id": "NBxJPB71TJyB",
      "execution_count": null,
      "outputs": []
    },
    {
      "cell_type": "code",
      "source": [
        "#Define new numerical columns.\n",
        "\n",
        "num_cols = [x for x in num_cols if x not in missing_num]"
      ],
      "metadata": {
        "id": "ebxwNvfwTK7v"
      },
      "id": "ebxwNvfwTK7v",
      "execution_count": null,
      "outputs": []
    },
    {
      "cell_type": "code",
      "execution_count": null,
      "metadata": {
        "id": "ff8609cd"
      },
      "outputs": [],
      "source": [
        "#Impute missing numerical values.\n",
        "\n",
        "num_imputer = KNNImputer(n_neighbors=5, weights='uniform', metric='nan_euclidean')\n",
        "data[num_cols] = num_imputer.fit_transform(data[num_cols])"
      ],
      "id": "ff8609cd"
    },
    {
      "cell_type": "code",
      "execution_count": null,
      "metadata": {
        "id": "01b6490e"
      },
      "outputs": [],
      "source": [
        "#Check missing values for categorical columns.\n",
        "\n",
        "missing_cat = data[cat_cols].isnull().mean().round(4).mul(100).sort_values(ascending=False)\n",
        "\n",
        "print(missing_cat, '\\n')\n",
        "\n",
        "missing_cat = pd.DataFrame(missing_cat)\n",
        "\n",
        "missing_cat.columns = ['Value']\n",
        "\n",
        "missing_cat = missing_cat[missing_cat['Value'] > 0]\n",
        "\n",
        "print('Categorical variables with missing values: ', list(missing_cat.index), '\\n')\n",
        "\n",
        "print('Number of categorical variables with missing values: ', len(list(missing_cat.index)), '\\n')\n",
        "\n",
        "missing_cat = missing_cat[missing_cat['Value'] > 25]\n",
        "\n",
        "missing_cat = list(missing_cat.index)\n",
        "\n",
        "print('Excluded categorical variables: ', missing_cat)"
      ],
      "id": "01b6490e"
    },
    {
      "cell_type": "code",
      "execution_count": null,
      "metadata": {
        "id": "89d3cdc4"
      },
      "outputs": [],
      "source": [
        "#Drop categorical columns with missing values over 25%.\n",
        "\n",
        "data.drop(missing_cat, axis=1, inplace=True)"
      ],
      "id": "89d3cdc4"
    },
    {
      "cell_type": "code",
      "execution_count": null,
      "metadata": {
        "id": "680fe385"
      },
      "outputs": [],
      "source": [
        "#Define new categorical columns.\n",
        "\n",
        "cat_cols = [x for x in cat_cols if x not in missing_cat]"
      ],
      "id": "680fe385"
    },
    {
      "cell_type": "code",
      "execution_count": null,
      "metadata": {
        "id": "9250b986"
      },
      "outputs": [],
      "source": [
        "#Replace missing categorical values with 'Unknown'.\n",
        "\n",
        "for col in cat_cols:\n",
        "    data[col].fillna(value='Unknown', inplace=True)"
      ],
      "id": "9250b986"
    },
    {
      "cell_type": "markdown",
      "source": [
        "#Final Touches"
      ],
      "metadata": {
        "id": "9NoOPB_X0b6p"
      },
      "id": "9NoOPB_X0b6p"
    },
    {
      "cell_type": "code",
      "source": [
        "#Change variable names to field names.\n",
        "\n",
        "data_dictionary = pd.read_csv(\"/content/drive/MyDrive/NSQIP-PUFs/Data_Dictionary.csv\", encoding = 'latin1', index_col = None, low_memory = False)\n",
        "FieldNames = dict(zip(data_dictionary['Variable'], data_dictionary['Field Name']))\n",
        "data.columns = data.columns.map(lambda x: FieldNames.get(x, x))"
      ],
      "metadata": {
        "id": "U4QTj_YR0eRB"
      },
      "id": "U4QTj_YR0eRB",
      "execution_count": null,
      "outputs": []
    },
    {
      "cell_type": "code",
      "execution_count": null,
      "id": "2289a865",
      "metadata": {
        "id": "2289a865"
      },
      "outputs": [],
      "source": [
        "#Save imputed data.\n",
        "\n",
        "data.to_csv('/content/drive/MyDrive/NSQIP-ALIF/imputed_data.csv')"
      ]
    },
    {
      "cell_type": "code",
      "source": [
        "#Manual label encoding.\n",
        "\n",
        "data.loc[data['Sex'] == 'Male', 'Sex'] = 0\n",
        "data.loc[data['Sex'] == 'Female', 'Sex'] = 1\n",
        "data.loc[data['Sex'] == 'Non-binary', 'Sex'] = 2\n",
        "data.loc[data['Race'] == 'White', 'Race'] = 0\n",
        "data.loc[data['Race'] == 'Black or African American', 'Race'] = 1\n",
        "data.loc[data['Race'] == 'Asian', 'Race'] = 2\n",
        "data.loc[data['Race'] == 'American Indian or Alaska Native', 'Race'] = 3\n",
        "data.loc[data['Race'] == 'Native Hawaiian or Pacific Islander', 'Race'] = 4\n",
        "data.loc[data['Race'] == 'Other/Unknown', 'Race'] = 4\n",
        "data.loc[data['Hispanic Ethnicity'] == 'No', 'Hispanic Ethnicity'] = 0\n",
        "data.loc[data['Hispanic Ethnicity'] == 'Yes', 'Hispanic Ethnicity'] = 1\n",
        "data.loc[data['Hispanic Ethnicity'] == 'Unknown', 'Hispanic Ethnicity'] = 2\n",
        "data.loc[data['Transfer Status'] == 'Not transferred', 'Transfer Status'] = 0\n",
        "data.loc[data['Transfer Status'] == 'Transferred', 'Transfer Status'] = 1\n",
        "data.loc[data['Transfer Status'] == 'Unknown', 'Transfer Status'] = 2\n",
        "data.loc[data['Surgical Specialty'] == 'Neurosurgery', 'Surgical Specialty'] = 0\n",
        "data.loc[data['Surgical Specialty'] == 'Orthopedics', 'Surgical Specialty'] = 1\n",
        "data.loc[data['Diabetes Mellitus Requiring Therapy'] == 'No', 'Diabetes Mellitus Requiring Therapy'] = 0\n",
        "data.loc[data['Diabetes Mellitus Requiring Therapy'] == 'Yes', 'Diabetes Mellitus Requiring Therapy'] = 1\n",
        "data.loc[data['Current Smoker Status'] == 'No', 'Current Smoker Status'] = 0\n",
        "data.loc[data['Current Smoker Status'] == 'Yes', 'Current Smoker Status'] = 1\n",
        "data.loc[data['Current Smoker Status'] == 'Unknown', 'Current Smoker Status'] = 2\n",
        "data.loc[data['Dyspnea'] == 'No', 'Dyspnea'] = 0\n",
        "data.loc[data['Dyspnea'] == 'Yes', 'Dyspnea'] = 1\n",
        "data.loc[data['Ventilator Dependency'] == 'No', 'Ventilator Dependency'] = 0\n",
        "data.loc[data['Ventilator Dependency'] == 'Yes', 'Ventilator Dependency'] = 1\n",
        "data.loc[data['Functional Status'] == 'Independent', 'Functional Status'] = 0\n",
        "data.loc[data['Functional Status'] == 'Partially Dependent', 'Functional Status'] = 1\n",
        "data.loc[data['Functional Status'] == 'Totally Dependent', 'Functional Status'] = 2\n",
        "data.loc[data['Functional Status'] == 'Unknown', 'Functional Status'] = 3\n",
        "data.loc[data['History of Severe COPD'] == 'No', 'History of Severe COPD'] = 0\n",
        "data.loc[data['History of Severe COPD'] == 'Yes', 'History of Severe COPD'] = 1\n",
        "data.loc[data['Ascites within 30 Days Prior to Surgery'] == 'No', 'Ascites within 30 Days Prior to Surgery'] = 0\n",
        "data.loc[data['Ascites within 30 Days Prior to Surgery'] == 'Yes', 'Ascites within 30 Days Prior to Surgery'] = 1\n",
        "data.loc[data['CHF within 30 Days Prior to Surgery'] == 'No', 'CHF within 30 Days Prior to Surgery'] = 0\n",
        "data.loc[data['CHF within 30 Days Prior to Surgery'] == 'Yes', 'CHF within 30 Days Prior to Surgery'] = 1\n",
        "data.loc[data['Hypertension Requiring Medication'] == 'No', 'Hypertension Requiring Medication'] = 0\n",
        "data.loc[data['Hypertension Requiring Medication'] == 'Yes', 'Hypertension Requiring Medication'] = 1\n",
        "data.loc[data['Acute Renal Failure'] == 'No', 'Acute Renal Failure'] = 0\n",
        "data.loc[data['Acute Renal Failure'] == 'Yes', 'Acute Renal Failure'] = 1\n",
        "data.loc[data['Currently Requiring or on Dialysis'] == 'No', 'Currently Requiring or on Dialysis'] = 0\n",
        "data.loc[data['Currently Requiring or on Dialysis'] == 'Yes', 'Currently Requiring or on Dialysis'] = 1\n",
        "data.loc[data['Disseminated Cancer'] == 'No', 'Disseminated Cancer'] = 0\n",
        "data.loc[data['Disseminated Cancer'] == 'Yes', 'Disseminated Cancer'] = 1\n",
        "data.loc[data['Open Wound'] == 'No', 'Open Wound'] = 0\n",
        "data.loc[data['Open Wound'] == 'Yes', 'Open Wound'] = 1\n",
        "data.loc[data['Steroid or Immunosuppressant for a Chronic Condition'] == 'No', 'Steroid or Immunosuppressant for a Chronic Condition'] = 0\n",
        "data.loc[data['Steroid or Immunosuppressant for a Chronic Condition'] == 'Yes', 'Steroid or Immunosuppressant for a Chronic Condition'] = 1\n",
        "data.loc[data['Malnourishment'] == 'No', 'Malnourishment'] = 0\n",
        "data.loc[data['Malnourishment'] == 'Yes', 'Malnourishment'] = 1\n",
        "data.loc[data['Bleeding Disorder'] == 'No', 'Bleeding Disorder'] = 0\n",
        "data.loc[data['Bleeding Disorder'] == 'Yes', 'Bleeding Disorder'] = 1\n",
        "data.loc[data['RBC Transfusion within 72 Hours Prior to Surgery'] == 'No', 'RBC Transfusion within 72 Hours Prior to Surgery'] = 0\n",
        "data.loc[data['RBC Transfusion within 72 Hours Prior to Surgery'] == 'Yes', 'RBC Transfusion within 72 Hours Prior to Surgery'] = 1\n",
        "data.loc[data['ASA Classification'] == '1-No Disturb', 'ASA Classification'] = 0\n",
        "data.loc[data['ASA Classification'] == '2-Mild Disturb', 'ASA Classification'] = 1\n",
        "data.loc[data['ASA Classification'] == '3-Severe Disturb', 'ASA Classification'] = 2\n",
        "\n",
        "data.loc[data['Single or Multiple Level Surgery'] == 'Single', 'Single or Multiple Level Surgery'] = 0\n",
        "data.loc[data['Single or Multiple Level Surgery'] == 'Multiple', 'Single or Multiple Level Surgery'] = 1\n",
        "\n",
        "columns = ['Sex', 'Race', 'Hispanic Ethnicity', 'Transfer Status', 'Surgical Specialty',\n",
        "           'Diabetes Mellitus Requiring Therapy', 'Current Smoker Status', 'Dyspnea',\n",
        "           'Ventilator Dependency', 'Functional Status', 'History of Severe COPD',\n",
        "           'Ascites within 30 Days Prior to Surgery', 'CHF within 30 Days Prior to Surgery',\n",
        "           'Hypertension Requiring Medication', 'Acute Renal Failure',\n",
        "           'Currently Requiring or on Dialysis', 'Disseminated Cancer', 'Open Wound',\n",
        "           'Steroid or Immunosuppressant for a Chronic Condition', 'Malnourishment',\n",
        "           'Bleeding Disorder', 'RBC Transfusion within 72 Hours Prior to Surgery',\n",
        "           'ASA Classification', 'Single or Multiple Level Surgery']\n",
        "\n",
        "for column in columns:\n",
        "    data[column] = data[column].astype(int)"
      ],
      "metadata": {
        "id": "Az0WqrjUTZDF"
      },
      "id": "Az0WqrjUTZDF",
      "execution_count": null,
      "outputs": []
    },
    {
      "cell_type": "code",
      "source": [
        "#Save final data.\n",
        "\n",
        "data.to_csv('/content/drive/MyDrive/NSQIP-ALIF/final_data.csv')"
      ],
      "metadata": {
        "id": "nQBCJkSC0gnp"
      },
      "id": "nQBCJkSC0gnp",
      "execution_count": null,
      "outputs": []
    },
    {
      "cell_type": "code",
      "execution_count": null,
      "id": "4336ba8a",
      "metadata": {
        "id": "4336ba8a"
      },
      "outputs": [],
      "source": [
        "#Save data for Gradio.\n",
        "\n",
        "gradio = data.copy()\n",
        "\n",
        "gradio.columns = gradio.columns.str.replace(' ', '_', regex=True)\n",
        "gradio.columns = gradio.columns.str.replace('-', '', regex=True)\n",
        "\n",
        "gradio.to_csv('/content/drive/MyDrive/NSQIP-ALIF/gradio_data.csv')"
      ]
    }
  ],
  "metadata": {
    "environment": {
      "kernel": "python3",
      "name": "common-cpu.m100",
      "type": "gcloud",
      "uri": "gcr.io/deeplearning-platform-release/base-cpu:m100"
    },
    "kernelspec": {
      "display_name": "Python 3",
      "language": "python",
      "name": "python3"
    },
    "language_info": {
      "codemirror_mode": {
        "name": "ipython",
        "version": 3
      },
      "file_extension": ".py",
      "mimetype": "text/x-python",
      "name": "python",
      "nbconvert_exporter": "python",
      "pygments_lexer": "ipython3",
      "version": "3.7.12"
    },
    "colab": {
      "provenance": []
    }
  },
  "nbformat": 4,
  "nbformat_minor": 5
}